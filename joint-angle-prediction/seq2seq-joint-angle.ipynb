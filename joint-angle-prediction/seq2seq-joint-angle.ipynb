{
 "cells": [
  {
   "cell_type": "markdown",
   "metadata": {},
   "source": [
    "# Seq2Seq Modeling for Joint Angle Prediction"
   ]
  },
  {
   "cell_type": "code",
   "execution_count": 1,
   "metadata": {},
   "outputs": [],
   "source": [
    "%load_ext autoreload\n",
    "%autoreload 2"
   ]
  },
  {
   "cell_type": "code",
   "execution_count": 5,
   "metadata": {},
   "outputs": [
    {
     "data": {
      "text/plain": [
       "<torch._C.Generator at 0x7f7affedacb0>"
      ]
     },
     "execution_count": 5,
     "metadata": {},
     "output_type": "execute_result"
    }
   ],
   "source": [
    "import sys\n",
    "sys.path.insert(0, '..')\n",
    "\n",
    "from pathlib import Path\n",
    "import math, random, time, os\n",
    "\n",
    "import torch\n",
    "from torch import nn, optim, Tensor\n",
    "import torch.nn.functional as F\n",
    "\n",
    "import numpy as np\n",
    "import pandas as pd\n",
    "from sklearn.preprocessing import RobustScaler\n",
    "\n",
    "import matplotlib.pyplot as plt\n",
    "plt.switch_backend('agg')\n",
    "import matplotlib.ticker as ticker\n",
    "\n",
    "from common.data_utils import *\n",
    "from common.models import *\n",
    "from common.training_utils import *\n",
    "\n",
    "torch.manual_seed(0)"
   ]
  },
  {
   "cell_type": "code",
   "execution_count": 8,
   "metadata": {},
   "outputs": [],
   "source": [
    "device = torch.device(\"cuda\" if torch.cuda.is_available() else \"cpu\")"
   ]
  },
  {
   "cell_type": "markdown",
   "metadata": {},
   "source": [
    "## Data Management"
   ]
  },
  {
   "cell_type": "code",
   "execution_count": 11,
   "metadata": {},
   "outputs": [],
   "source": [
    "data_path = Path('../csv-files')\n",
    "filenames = os.listdir(data_path)\n",
    "\n",
    "joint_requests = {'Joint' : ['jL5S1','jL4L3','jL1T12','jT9T8','jT1C7','jC1Head',\n",
    "                             'jRightC7Shoulder','jRightShoulder','jRightElbow','jRightWrist',\n",
    "                             'jLeftC7Shoulder','jLeftShoulder','jLeftElbow','jLeftWrist',\n",
    "                             'jRightHip','jRightKnee','jRightAnkle','jRightBallFoot',\n",
    "                             'jLeftHip','jLeftKnee','jLeftAnkle','jLeftBallFoot']}\n",
    "num_files = 2\n",
    "seq_length = 120"
   ]
  },
  {
   "cell_type": "code",
   "execution_count": 13,
   "metadata": {},
   "outputs": [
    {
     "name": "stdout",
     "output_type": "stream",
     "text": [
      "Done with reading files\n",
      "Number of frames in dataset: 537360\n",
      "Number of bytes: 283726080\n"
     ]
    }
   ],
   "source": [
    "joint_angles, scaler = read_data(filenames, data_path, num_files, joint_requests, seq_length)"
   ]
  },
  {
   "cell_type": "code",
   "execution_count": 15,
   "metadata": {},
   "outputs": [],
   "source": [
    "encoder_input_data, decoder_target_data = split_sequences(joint_angles, seq_length=seq_length)\n",
    "del data\n",
    "\n",
    "batch_size = 32\n",
    "encoder_input_data = discard_remainder(encoder_input_data, batch_size)\n",
    "decoder_target_data = discard_remainder(decoder_target_data, batch_size)"
   ]
  },
  {
   "cell_type": "markdown",
   "metadata": {},
   "source": [
    "## Refactor using Dataset and DataLoader"
   ]
  },
  {
   "cell_type": "code",
   "execution_count": 7,
   "metadata": {},
   "outputs": [],
   "source": [
    "from torch.utils.data import TensorDataset, DataLoader, random_split"
   ]
  },
  {
   "cell_type": "code",
   "execution_count": 8,
   "metadata": {},
   "outputs": [],
   "source": [
    "encoder_input_data = torch.tensor(encoder_input_data).to(device)\n",
    "decoder_target_data = torch.tensor(decoder_target_data).to(device)"
   ]
  },
  {
   "cell_type": "code",
   "execution_count": 9,
   "metadata": {},
   "outputs": [],
   "source": [
    "dataset = TensorDataset(encoder_input_data, decoder_target_data)\n",
    "\n",
    "train_size_approx = int(0.8 * len(dataset))\n",
    "train_size = train_size_approx - (train_size_approx % batch_size)\n",
    "val_size = len(dataset) - train_size\n",
    "\n",
    "train_dataset, val_dataset = random_split(dataset, [train_size, val_size])"
   ]
  },
  {
   "cell_type": "code",
   "execution_count": 10,
   "metadata": {},
   "outputs": [],
   "source": [
    "train_dataloader = DataLoader(train_dataset, batch_size=batch_size, shuffle=True)\n",
    "val_dataloader = DataLoader(val_dataset, batch_size=batch_size, shuffle=False)"
   ]
  },
  {
   "cell_type": "code",
   "execution_count": 11,
   "metadata": {},
   "outputs": [
    {
     "name": "stdout",
     "output_type": "stream",
     "text": [
      "Number of training samples: 3552\n",
      "Number of validation samples: 896\n"
     ]
    }
   ],
   "source": [
    "print(\"Number of training samples:\", len(train_dataset))\n",
    "print(\"Number of validation samples:\", len(val_dataset))"
   ]
  },
  {
   "cell_type": "markdown",
   "metadata": {},
   "source": [
    "## Zero-Velocity Baseline"
   ]
  },
  {
   "cell_type": "code",
   "execution_count": 12,
   "metadata": {},
   "outputs": [],
   "source": [
    "def zero_velocity_baseline(data, criterion):\n",
    "    loss = 0\n",
    "    \n",
    "    input_batch, target_batch = data\n",
    "\n",
    "    seq_length = input_batch.shape[1]\n",
    "    \n",
    "    last_input = input_batch[:, -1, :].unsqueeze(0).float()\n",
    "    \n",
    "    for t in range(seq_length):\n",
    "        target = target_batch[:, t, :].unsqueeze(0).float()\n",
    "        loss += criterion(torch.tensor(scaler.inverse_transform(last_input.squeeze(0).cpu())), \n",
    "                          torch.tensor(scaler.inverse_transform(target.squeeze(0).cpu())))\n",
    "        \n",
    "    return loss.item() / seq_length"
   ]
  },
  {
   "cell_type": "code",
   "execution_count": 13,
   "metadata": {},
   "outputs": [],
   "source": [
    "def calculate_zero_velocity_loss(dataloaders, criterion):\n",
    "    \n",
    "    train_dataloader, val_dataloader = dataloaders\n",
    "    \n",
    "    losses = [zero_velocity_baseline(data, criterion) for _, data in enumerate(train_dataloader, 0)]\n",
    "\n",
    "    val_losses = [zero_velocity_baseline(data, criterion) for _, data in enumerate(val_dataloader, 0)]\n",
    "\n",
    "    loss = np.sum(losses) / len(losses)\n",
    "    val_loss = np.sum(val_losses) / len(val_losses)\n",
    "\n",
    "    print()\n",
    "    print(\"Training Loss: \" + str(loss), \"Val Loss: \" + str(val_loss))"
   ]
  },
  {
   "cell_type": "markdown",
   "metadata": {},
   "source": [
    "## Training"
   ]
  },
  {
   "cell_type": "code",
   "execution_count": 14,
   "metadata": {},
   "outputs": [],
   "source": [
    "def update_learning_rates(opts, epoch, schedule=0.9):\n",
    "    if (epoch + 1) == 5:\n",
    "        for opt in opts:\n",
    "            for param_group in opt.param_groups:\n",
    "                param_group['lr'] *= (1 - schedule**(epoch+1))\n",
    "            \n",
    "    return opts"
   ]
  },
  {
   "cell_type": "code",
   "execution_count": 15,
   "metadata": {},
   "outputs": [],
   "source": [
    "def get_encoder(num_features, hidden_size=64, lr=0.001, dropout=0.0, bs=batch_size, bidirectional=False):\n",
    "    encoder = EncoderRNN(num_features, hidden_size, bs, dropout=dropout, bidirectional=bidirectional).to(device)\n",
    "    return encoder, optim.Adam(encoder.parameters(), lr=lr)\n",
    "\n",
    "def get_decoder(num_features, hidden_size=64, lr=0.001, dropout=0.0, bs=batch_size):\n",
    "    decoder = DecoderRNN(num_features, hidden_size, num_features, bs, dropout=dropout).to(device)\n",
    "    return decoder, optim.Adam(decoder.parameters(), lr=lr)\n",
    "\n",
    "def get_attn_decoder(num_features, method, hidden_size=64, lr=0.001, bs=batch_size, bidirectional_encoder=False):\n",
    "    attn = Attention(hidden_size, bs, method, bidirectional_encoder=bidirectional_encoder)\n",
    "    decoder = AttnDecoderRNN(num_features, num_features, hidden_size, hidden_size, attn, bidirectional_encoder=bidirectional_encoder).to(device)\n",
    "    return decoder, optim.Adam(decoder.parameters(), lr=lr)"
   ]
  },
  {
   "cell_type": "code",
   "execution_count": 16,
   "metadata": {},
   "outputs": [],
   "source": [
    "def showPlot(points, epochs):\n",
    "    points = np.array(points)\n",
    "    plt.figure()\n",
    "    fig, ax = plt.subplots()\n",
    "    x = range(1, epochs+1)\n",
    "    plt.plot(x, points[:,0], 'b-')\n",
    "    plt.plot(x, points[:,1], 'r-')\n",
    "    plt.legend(['training loss', 'val loss'])"
   ]
  },
  {
   "cell_type": "code",
   "execution_count": 17,
   "metadata": {},
   "outputs": [],
   "source": [
    "epochs = 15\n",
    "\n",
    "dataloaders = (train_dataloader, val_dataloader)\n",
    "\n",
    "criterion = nn.L1Loss()"
   ]
  },
  {
   "cell_type": "markdown",
   "metadata": {},
   "source": [
    "## Zero-velocity baseline"
   ]
  },
  {
   "cell_type": "code",
   "execution_count": 18,
   "metadata": {},
   "outputs": [
    {
     "name": "stdout",
     "output_type": "stream",
     "text": [
      "\n",
      "Training Loss: 0.025277771639872056 Val Loss: 0.024338295610988468\n"
     ]
    }
   ],
   "source": [
    "calculate_zero_velocity_loss(dataloaders, criterion)"
   ]
  },
  {
   "cell_type": "markdown",
   "metadata": {},
   "source": [
    "## Training the seq2seq model"
   ]
  },
  {
   "cell_type": "code",
   "execution_count": 36,
   "metadata": {
    "scrolled": false
   },
   "outputs": [
    {
     "name": "stdout",
     "output_type": "stream",
     "text": [
      "Epoch 1/15\n",
      "15584/15584 [==============================] - Time elapsed: 19.67s - Loss: 0.74820455\n",
      "Training Loss: 0.92076685 - Val Loss: 0.78760313 - Scaled Val Loss: 0.08542278\n",
      "Epoch 2/15\n",
      "15584/15584 [==============================] - Time elapsed: 21.61s - Loss: 0.70848859\n",
      "Training Loss: 0.73642155 - Val Loss: 0.70186535 - Scaled Val Loss: 0.06870875\n",
      "Epoch 3/15\n",
      "15584/15584 [==============================] - Time elapsed: 19.70s - Loss: 0.57316297\n",
      "Training Loss: 0.66125848 - Val Loss: 0.63589490 - Scaled Val Loss: 0.05580419\n",
      "Epoch 4/15\n",
      "15584/15584 [==============================] - Time elapsed: 19.74s - Loss: 0.72028103\n",
      "Training Loss: 0.60696448 - Val Loss: 0.59617224 - Scaled Val Loss: 0.04998575\n",
      "Epoch 5/15\n",
      "15584/15584 [==============================] - Time elapsed: 19.79s - Loss: 0.59826539\n",
      "Training Loss: 0.57121730 - Val Loss: 0.56292908 - Scaled Val Loss: 0.04643092\n",
      "Epoch 6/15\n",
      "15584/15584 [==============================] - Time elapsed: 19.77s - Loss: 0.34631643\n",
      "Training Loss: 0.54096371 - Val Loss: 0.53230565 - Scaled Val Loss: 0.04425590\n",
      "Epoch 7/15\n",
      "15584/15584 [==============================] - Time elapsed: 20.34s - Loss: 0.47787170\n",
      "Training Loss: 0.51539483 - Val Loss: 0.51266229 - Scaled Val Loss: 0.04261114\n",
      "Epoch 8/15\n",
      "15584/15584 [==============================] - Time elapsed: 19.75s - Loss: 0.49225213\n",
      "Training Loss: 0.49478913 - Val Loss: 0.49478328 - Scaled Val Loss: 0.04183007\n",
      "Epoch 9/15\n",
      "15584/15584 [==============================] - Time elapsed: 20.43s - Loss: 0.37154347\n",
      "Training Loss: 0.47755327 - Val Loss: 0.47322631 - Scaled Val Loss: 0.04030951\n",
      "Epoch 10/15\n",
      "15584/15584 [==============================] - Time elapsed: 20.31s - Loss: 0.43933010\n",
      "Training Loss: 0.46233402 - Val Loss: 0.46219050 - Scaled Val Loss: 0.04010870\n",
      "Epoch 11/15\n",
      "15584/15584 [==============================] - Time elapsed: 20.69s - Loss: 0.42912858\n",
      "Training Loss: 0.44811118 - Val Loss: 0.44883970 - Scaled Val Loss: 0.03933148\n",
      "Epoch 12/15\n",
      "15584/15584 [==============================] - Time elapsed: 20.44s - Loss: 0.34840329\n",
      "Training Loss: 0.43704093 - Val Loss: 0.43738212 - Scaled Val Loss: 0.03910379\n",
      "Epoch 13/15\n",
      "15584/15584 [==============================] - Time elapsed: 19.87s - Loss: 0.42244984\n",
      "Training Loss: 0.42857479 - Val Loss: 0.42651205 - Scaled Val Loss: 0.03825211\n",
      "Epoch 14/15\n",
      "15584/15584 [==============================] - Time elapsed: 19.70s - Loss: 0.41508859\n",
      "Training Loss: 0.41763932 - Val Loss: 0.42312594 - Scaled Val Loss: 0.03796551\n",
      "Epoch 15/15\n",
      "15584/15584 [==============================] - Time elapsed: 19.80s - Loss: 0.38644250\n",
      "Training Loss: 0.40876888 - Val Loss: 0.41277692 - Scaled Val Loss: 0.03757677\n"
     ]
    },
    {
     "data": {
      "text/plain": [
       "<Figure size 432x288 with 0 Axes>"
      ]
     },
     "metadata": {},
     "output_type": "display_data"
    },
    {
     "data": {
      "image/png": "[encoded data removed]",
      "text/plain": [
       "<Figure size 432x288 with 1 Axes>"
      ]
     },
     "metadata": {
      "needs_background": "light"
     },
     "output_type": "display_data"
    }
   ],
   "source": [
    "encoder, encoder_opt = get_encoder(66, dropout=0.1)\n",
    "decoder, decoder_opt = get_decoder(66)\n",
    "\n",
    "models = (encoder, decoder)\n",
    "opts = (encoder_opt, decoder_opt)\n",
    "\n",
    "fit(models, opts, epochs, dataloaders, criterion, scaler)"
   ]
  },
  {
   "cell_type": "markdown",
   "metadata": {},
   "source": [
    "## Training the seq2seq model with a bidirectional encoder"
   ]
  },
  {
   "cell_type": "code",
   "execution_count": 29,
   "metadata": {},
   "outputs": [
    {
     "name": "stdout",
     "output_type": "stream",
     "text": [
      "Epoch 1/15\n",
      "15584/15584 [==============================] - Time elapsed: 20.83s - Loss: 0.58017209\n",
      "Training Loss: 0.92139223 - Val Loss: 0.80178692 - Scaled Val Loss: 0.08680270\n",
      "Epoch 2/15\n",
      "15584/15584 [==============================] - Time elapsed: 20.66s - Loss: 0.64399293\n",
      "Training Loss: 0.75098165 - Val Loss: 0.72032797 - Scaled Val Loss: 0.07225960\n",
      "Epoch 3/15\n",
      "15584/15584 [==============================] - Time elapsed: 20.58s - Loss: 0.80740337\n",
      "Training Loss: 0.68889575 - Val Loss: 0.66978534 - Scaled Val Loss: 0.06467569\n",
      "Epoch 4/15\n",
      "15584/15584 [==============================] - Time elapsed: 21.47s - Loss: 0.79325288\n",
      "Training Loss: 0.64244901 - Val Loss: 0.62834311 - Scaled Val Loss: 0.05889818\n",
      "Epoch 5/15\n",
      "15584/15584 [==============================] - Time elapsed: 21.38s - Loss: 0.62221305\n",
      "Training Loss: 0.60437490 - Val Loss: 0.60324148 - Scaled Val Loss: 0.05547762\n",
      "Epoch 6/15\n",
      "15584/15584 [==============================] - Time elapsed: 20.56s - Loss: 0.62537492\n",
      "Training Loss: 0.58772582 - Val Loss: 0.58870814 - Scaled Val Loss: 0.05364285\n",
      "Epoch 7/15\n",
      "15584/15584 [==============================] - Time elapsed: 20.97s - Loss: 0.50883627\n",
      "Training Loss: 0.57284231 - Val Loss: 0.57383414 - Scaled Val Loss: 0.05234488\n",
      "Epoch 8/15\n",
      "15584/15584 [==============================] - Time elapsed: 20.42s - Loss: 0.49186198\n",
      "Training Loss: 0.55941268 - Val Loss: 0.56305389 - Scaled Val Loss: 0.05128014\n",
      "Epoch 9/15\n",
      "15584/15584 [==============================] - Time elapsed: 20.57s - Loss: 0.51423184\n",
      "Training Loss: 0.54697320 - Val Loss: 0.55051338 - Scaled Val Loss: 0.04999547\n",
      "Epoch 10/15\n",
      "15584/15584 [==============================] - Time elapsed: 20.83s - Loss: 0.47235104\n",
      "Training Loss: 0.53567192 - Val Loss: 0.53999796 - Scaled Val Loss: 0.04922674\n",
      "Epoch 11/15\n",
      "15584/15584 [==============================] - Time elapsed: 20.72s - Loss: 0.55062809\n",
      "Training Loss: 0.52454843 - Val Loss: 0.53032154 - Scaled Val Loss: 0.04806216\n",
      "Epoch 12/15\n",
      "10016/15584 [===================-----------] - Time elapsed: 13.71s - Loss: 0.56176236\r"
     ]
    },
    {
     "ename": "KeyboardInterrupt",
     "evalue": "",
     "output_type": "error",
     "traceback": [
      "\u001b[0;31m---------------------------------------------------------------------------\u001b[0m",
      "\u001b[0;31mKeyboardInterrupt\u001b[0m                         Traceback (most recent call last)",
      "\u001b[0;32m<ipython-input-29-1ae36adb97d9>\u001b[0m in \u001b[0;36m<module>\u001b[0;34m\u001b[0m\n\u001b[1;32m      5\u001b[0m \u001b[0mopts\u001b[0m \u001b[0;34m=\u001b[0m \u001b[0;34m(\u001b[0m\u001b[0mencoder_opt\u001b[0m\u001b[0;34m,\u001b[0m \u001b[0mdecoder_opt\u001b[0m\u001b[0;34m)\u001b[0m\u001b[0;34m\u001b[0m\u001b[0;34m\u001b[0m\u001b[0m\n\u001b[1;32m      6\u001b[0m \u001b[0;34m\u001b[0m\u001b[0m\n\u001b[0;32m----> 7\u001b[0;31m \u001b[0mfit\u001b[0m\u001b[0;34m(\u001b[0m\u001b[0mmodels\u001b[0m\u001b[0;34m,\u001b[0m \u001b[0mopts\u001b[0m\u001b[0;34m,\u001b[0m \u001b[0mepochs\u001b[0m\u001b[0;34m,\u001b[0m \u001b[0mdataloaders\u001b[0m\u001b[0;34m,\u001b[0m \u001b[0mcriterion\u001b[0m\u001b[0;34m,\u001b[0m \u001b[0mupdate_learning_rates\u001b[0m\u001b[0;34m=\u001b[0m\u001b[0mupdate_learning_rates\u001b[0m\u001b[0;34m)\u001b[0m\u001b[0;34m\u001b[0m\u001b[0;34m\u001b[0m\u001b[0m\n\u001b[0m",
      "\u001b[0;32m<ipython-input-19-acccbf99ce88>\u001b[0m in \u001b[0;36mfit\u001b[0;34m(models, opts, epochs, dataloaders, criterion, teacher_forcing_ratio, update_learning_rates, use_attention, schedule_rate)\u001b[0m\n\u001b[1;32m     24\u001b[0m             loss, _ = loss_batch(data, models, \n\u001b[1;32m     25\u001b[0m                          \u001b[0mopts\u001b[0m\u001b[0;34m,\u001b[0m \u001b[0mcriterion\u001b[0m\u001b[0;34m,\u001b[0m\u001b[0;34m\u001b[0m\u001b[0;34m\u001b[0m\u001b[0m\n\u001b[0;32m---> 26\u001b[0;31m                          use_attention=use_attention) \n\u001b[0m\u001b[1;32m     27\u001b[0m \u001b[0;34m\u001b[0m\u001b[0m\n\u001b[1;32m     28\u001b[0m             \u001b[0mlosses\u001b[0m\u001b[0;34m.\u001b[0m\u001b[0mappend\u001b[0m\u001b[0;34m(\u001b[0m\u001b[0mloss\u001b[0m\u001b[0;34m)\u001b[0m\u001b[0;34m\u001b[0m\u001b[0;34m\u001b[0m\u001b[0m\n",
      "\u001b[0;32m<ipython-input-18-75fbef27a7de>\u001b[0m in \u001b[0;36mloss_batch\u001b[0;34m(data, models, opts, criterion, teacher_forcing_ratio, use_attention)\u001b[0m\n\u001b[1;32m     24\u001b[0m             \u001b[0mdecoder_output\u001b[0m\u001b[0;34m,\u001b[0m \u001b[0mdecoder_hidden\u001b[0m \u001b[0;34m=\u001b[0m \u001b[0mdecoder\u001b[0m\u001b[0;34m(\u001b[0m\u001b[0mdecoder_input\u001b[0m\u001b[0;34m,\u001b[0m \u001b[0mdecoder_hidden\u001b[0m\u001b[0;34m,\u001b[0m \u001b[0mencoder_outputs\u001b[0m\u001b[0;34m)\u001b[0m\u001b[0;34m\u001b[0m\u001b[0;34m\u001b[0m\u001b[0m\n\u001b[1;32m     25\u001b[0m         \u001b[0;32melse\u001b[0m\u001b[0;34m:\u001b[0m\u001b[0;34m\u001b[0m\u001b[0;34m\u001b[0m\u001b[0m\n\u001b[0;32m---> 26\u001b[0;31m             \u001b[0mdecoder_output\u001b[0m\u001b[0;34m,\u001b[0m \u001b[0mdecoder_hidden\u001b[0m \u001b[0;34m=\u001b[0m \u001b[0mdecoder\u001b[0m\u001b[0;34m(\u001b[0m\u001b[0mdecoder_input\u001b[0m\u001b[0;34m,\u001b[0m \u001b[0mdecoder_hidden\u001b[0m\u001b[0;34m)\u001b[0m\u001b[0;34m\u001b[0m\u001b[0;34m\u001b[0m\u001b[0m\n\u001b[0m\u001b[1;32m     27\u001b[0m \u001b[0;34m\u001b[0m\u001b[0m\n\u001b[1;32m     28\u001b[0m         \u001b[0mtarget\u001b[0m \u001b[0;34m=\u001b[0m \u001b[0mtarget_batch\u001b[0m\u001b[0;34m[\u001b[0m\u001b[0;34m:\u001b[0m\u001b[0;34m,\u001b[0m \u001b[0mt\u001b[0m\u001b[0;34m,\u001b[0m \u001b[0;34m:\u001b[0m\u001b[0;34m]\u001b[0m\u001b[0;34m.\u001b[0m\u001b[0munsqueeze\u001b[0m\u001b[0;34m(\u001b[0m\u001b[0;36m0\u001b[0m\u001b[0;34m)\u001b[0m\u001b[0;34m.\u001b[0m\u001b[0mfloat\u001b[0m\u001b[0;34m(\u001b[0m\u001b[0;34m)\u001b[0m\u001b[0;34m\u001b[0m\u001b[0;34m\u001b[0m\u001b[0m\n",
      "\u001b[0;32m~/anaconda2/envs/pytorch/lib/python3.7/site-packages/torch/nn/modules/module.py\u001b[0m in \u001b[0;36m__call__\u001b[0;34m(self, *input, **kwargs)\u001b[0m\n\u001b[1;32m    487\u001b[0m             \u001b[0mresult\u001b[0m \u001b[0;34m=\u001b[0m \u001b[0mself\u001b[0m\u001b[0;34m.\u001b[0m\u001b[0m_slow_forward\u001b[0m\u001b[0;34m(\u001b[0m\u001b[0;34m*\u001b[0m\u001b[0minput\u001b[0m\u001b[0;34m,\u001b[0m \u001b[0;34m**\u001b[0m\u001b[0mkwargs\u001b[0m\u001b[0;34m)\u001b[0m\u001b[0;34m\u001b[0m\u001b[0;34m\u001b[0m\u001b[0m\n\u001b[1;32m    488\u001b[0m         \u001b[0;32melse\u001b[0m\u001b[0;34m:\u001b[0m\u001b[0;34m\u001b[0m\u001b[0;34m\u001b[0m\u001b[0m\n\u001b[0;32m--> 489\u001b[0;31m             \u001b[0mresult\u001b[0m \u001b[0;34m=\u001b[0m \u001b[0mself\u001b[0m\u001b[0;34m.\u001b[0m\u001b[0mforward\u001b[0m\u001b[0;34m(\u001b[0m\u001b[0;34m*\u001b[0m\u001b[0minput\u001b[0m\u001b[0;34m,\u001b[0m \u001b[0;34m**\u001b[0m\u001b[0mkwargs\u001b[0m\u001b[0;34m)\u001b[0m\u001b[0;34m\u001b[0m\u001b[0;34m\u001b[0m\u001b[0m\n\u001b[0m\u001b[1;32m    490\u001b[0m         \u001b[0;32mfor\u001b[0m \u001b[0mhook\u001b[0m \u001b[0;32min\u001b[0m \u001b[0mself\u001b[0m\u001b[0;34m.\u001b[0m\u001b[0m_forward_hooks\u001b[0m\u001b[0;34m.\u001b[0m\u001b[0mvalues\u001b[0m\u001b[0;34m(\u001b[0m\u001b[0;34m)\u001b[0m\u001b[0;34m:\u001b[0m\u001b[0;34m\u001b[0m\u001b[0;34m\u001b[0m\u001b[0m\n\u001b[1;32m    491\u001b[0m             \u001b[0mhook_result\u001b[0m \u001b[0;34m=\u001b[0m \u001b[0mhook\u001b[0m\u001b[0;34m(\u001b[0m\u001b[0mself\u001b[0m\u001b[0;34m,\u001b[0m \u001b[0minput\u001b[0m\u001b[0;34m,\u001b[0m \u001b[0mresult\u001b[0m\u001b[0;34m)\u001b[0m\u001b[0;34m\u001b[0m\u001b[0;34m\u001b[0m\u001b[0m\n",
      "\u001b[0;32m<ipython-input-15-d2e97d3b4a47>\u001b[0m in \u001b[0;36mforward\u001b[0;34m(self, input, hidden)\u001b[0m\n\u001b[1;32m     12\u001b[0m         \u001b[0moutput\u001b[0m\u001b[0;34m,\u001b[0m \u001b[0mhidden\u001b[0m \u001b[0;34m=\u001b[0m \u001b[0mself\u001b[0m\u001b[0;34m.\u001b[0m\u001b[0mgru\u001b[0m\u001b[0;34m(\u001b[0m\u001b[0minput\u001b[0m\u001b[0;34m,\u001b[0m \u001b[0mhidden\u001b[0m\u001b[0;34m)\u001b[0m\u001b[0;34m\u001b[0m\u001b[0;34m\u001b[0m\u001b[0m\n\u001b[1;32m     13\u001b[0m         \u001b[0moutput\u001b[0m \u001b[0;34m=\u001b[0m \u001b[0mself\u001b[0m\u001b[0;34m.\u001b[0m\u001b[0mdropout\u001b[0m\u001b[0;34m(\u001b[0m\u001b[0moutput\u001b[0m\u001b[0;34m)\u001b[0m\u001b[0;34m\u001b[0m\u001b[0;34m\u001b[0m\u001b[0m\n\u001b[0;32m---> 14\u001b[0;31m         \u001b[0moutput\u001b[0m \u001b[0;34m=\u001b[0m \u001b[0mself\u001b[0m\u001b[0;34m.\u001b[0m\u001b[0mout\u001b[0m\u001b[0;34m(\u001b[0m\u001b[0moutput\u001b[0m\u001b[0;34m)\u001b[0m\u001b[0;34m\u001b[0m\u001b[0;34m\u001b[0m\u001b[0m\n\u001b[0m\u001b[1;32m     15\u001b[0m         \u001b[0;32mreturn\u001b[0m \u001b[0moutput\u001b[0m\u001b[0;34m,\u001b[0m \u001b[0mhidden\u001b[0m\u001b[0;34m\u001b[0m\u001b[0;34m\u001b[0m\u001b[0m\n\u001b[1;32m     16\u001b[0m \u001b[0;34m\u001b[0m\u001b[0m\n",
      "\u001b[0;32m~/anaconda2/envs/pytorch/lib/python3.7/site-packages/torch/nn/modules/module.py\u001b[0m in \u001b[0;36m__call__\u001b[0;34m(self, *input, **kwargs)\u001b[0m\n\u001b[1;32m    487\u001b[0m             \u001b[0mresult\u001b[0m \u001b[0;34m=\u001b[0m \u001b[0mself\u001b[0m\u001b[0;34m.\u001b[0m\u001b[0m_slow_forward\u001b[0m\u001b[0;34m(\u001b[0m\u001b[0;34m*\u001b[0m\u001b[0minput\u001b[0m\u001b[0;34m,\u001b[0m \u001b[0;34m**\u001b[0m\u001b[0mkwargs\u001b[0m\u001b[0;34m)\u001b[0m\u001b[0;34m\u001b[0m\u001b[0;34m\u001b[0m\u001b[0m\n\u001b[1;32m    488\u001b[0m         \u001b[0;32melse\u001b[0m\u001b[0;34m:\u001b[0m\u001b[0;34m\u001b[0m\u001b[0;34m\u001b[0m\u001b[0m\n\u001b[0;32m--> 489\u001b[0;31m             \u001b[0mresult\u001b[0m \u001b[0;34m=\u001b[0m \u001b[0mself\u001b[0m\u001b[0;34m.\u001b[0m\u001b[0mforward\u001b[0m\u001b[0;34m(\u001b[0m\u001b[0;34m*\u001b[0m\u001b[0minput\u001b[0m\u001b[0;34m,\u001b[0m \u001b[0;34m**\u001b[0m\u001b[0mkwargs\u001b[0m\u001b[0;34m)\u001b[0m\u001b[0;34m\u001b[0m\u001b[0;34m\u001b[0m\u001b[0m\n\u001b[0m\u001b[1;32m    490\u001b[0m         \u001b[0;32mfor\u001b[0m \u001b[0mhook\u001b[0m \u001b[0;32min\u001b[0m \u001b[0mself\u001b[0m\u001b[0;34m.\u001b[0m\u001b[0m_forward_hooks\u001b[0m\u001b[0;34m.\u001b[0m\u001b[0mvalues\u001b[0m\u001b[0;34m(\u001b[0m\u001b[0;34m)\u001b[0m\u001b[0;34m:\u001b[0m\u001b[0;34m\u001b[0m\u001b[0;34m\u001b[0m\u001b[0m\n\u001b[1;32m    491\u001b[0m             \u001b[0mhook_result\u001b[0m \u001b[0;34m=\u001b[0m \u001b[0mhook\u001b[0m\u001b[0;34m(\u001b[0m\u001b[0mself\u001b[0m\u001b[0;34m,\u001b[0m \u001b[0minput\u001b[0m\u001b[0;34m,\u001b[0m \u001b[0mresult\u001b[0m\u001b[0;34m)\u001b[0m\u001b[0;34m\u001b[0m\u001b[0;34m\u001b[0m\u001b[0m\n",
      "\u001b[0;32m~/anaconda2/envs/pytorch/lib/python3.7/site-packages/torch/nn/modules/linear.py\u001b[0m in \u001b[0;36mforward\u001b[0;34m(self, input)\u001b[0m\n\u001b[1;32m     63\u001b[0m             \u001b[0minit\u001b[0m\u001b[0;34m.\u001b[0m\u001b[0muniform_\u001b[0m\u001b[0;34m(\u001b[0m\u001b[0mself\u001b[0m\u001b[0;34m.\u001b[0m\u001b[0mbias\u001b[0m\u001b[0;34m,\u001b[0m \u001b[0;34m-\u001b[0m\u001b[0mbound\u001b[0m\u001b[0;34m,\u001b[0m \u001b[0mbound\u001b[0m\u001b[0;34m)\u001b[0m\u001b[0;34m\u001b[0m\u001b[0;34m\u001b[0m\u001b[0m\n\u001b[1;32m     64\u001b[0m \u001b[0;34m\u001b[0m\u001b[0m\n\u001b[0;32m---> 65\u001b[0;31m     \u001b[0;34m@\u001b[0m\u001b[0mweak_script_method\u001b[0m\u001b[0;34m\u001b[0m\u001b[0;34m\u001b[0m\u001b[0m\n\u001b[0m\u001b[1;32m     66\u001b[0m     \u001b[0;32mdef\u001b[0m \u001b[0mforward\u001b[0m\u001b[0;34m(\u001b[0m\u001b[0mself\u001b[0m\u001b[0;34m,\u001b[0m \u001b[0minput\u001b[0m\u001b[0;34m)\u001b[0m\u001b[0;34m:\u001b[0m\u001b[0;34m\u001b[0m\u001b[0;34m\u001b[0m\u001b[0m\n\u001b[1;32m     67\u001b[0m         \u001b[0;32mreturn\u001b[0m \u001b[0mF\u001b[0m\u001b[0;34m.\u001b[0m\u001b[0mlinear\u001b[0m\u001b[0;34m(\u001b[0m\u001b[0minput\u001b[0m\u001b[0;34m,\u001b[0m \u001b[0mself\u001b[0m\u001b[0;34m.\u001b[0m\u001b[0mweight\u001b[0m\u001b[0;34m,\u001b[0m \u001b[0mself\u001b[0m\u001b[0;34m.\u001b[0m\u001b[0mbias\u001b[0m\u001b[0;34m)\u001b[0m\u001b[0;34m\u001b[0m\u001b[0;34m\u001b[0m\u001b[0m\n",
      "\u001b[0;31mKeyboardInterrupt\u001b[0m: "
     ]
    }
   ],
   "source": [
    "encoder, encoder_opt = get_encoder(66, dropout=0.4, bidirectional=True)\n",
    "decoder, decoder_opt = get_decoder(66)\n",
    "\n",
    "models = (encoder, decoder)\n",
    "opts = (encoder_opt, decoder_opt)\n",
    "\n",
    "fit(models, opts, epochs, dataloaders, criterion, scaler, update_learning_rates=update_learning_rates)"
   ]
  },
  {
   "cell_type": "markdown",
   "metadata": {},
   "source": [
    "## Training the seq2seq model with attention"
   ]
  },
  {
   "cell_type": "code",
   "execution_count": 78,
   "metadata": {},
   "outputs": [
    {
     "name": "stdout",
     "output_type": "stream",
     "text": [
      "Epoch 1/15\n",
      "6368/6368 [==============================] - Time: 13.03s - Loss: 0.28657741546630867\n",
      "Training Loss: 0.3844551008151005 - Val Loss: 0.3059776973724365 - Scaled Val Loss: 0.07617483466081483\n",
      "Epoch 2/15\n",
      "6368/6368 [==============================] - Time: 12.89s - Loss: 0.23324629465738933\n",
      "Training Loss: 0.2792498328178572 - Val Loss: 0.25958847173055016 - Scaled Val Loss: 0.06293677614934134\n",
      "Epoch 3/15\n",
      "6368/6368 [==============================] - Time: 12.90s - Loss: 0.24156084060668945\n",
      "Training Loss: 0.24673716323060207 - Val Loss: 0.2362577997843425 - Scaled Val Loss: 0.056540121402971745\n",
      "Epoch 4/15\n",
      "6368/6368 [==============================] - Time: 12.94s - Loss: 0.22435520490010582\n",
      "Training Loss: 0.22793481641478675 - Val Loss: 0.2206785415013631 - Scaled Val Loss: 0.05197896302965086\n",
      "Epoch 5/15\n",
      "6368/6368 [==============================] - Time: 12.93s - Loss: 0.19855694770812987\n",
      "Training Loss: 0.21371006470429438 - Val Loss: 0.20992007382710776 - Scaled Val Loss: 0.04907614898730738\n",
      "Epoch 6/15\n",
      "6368/6368 [==============================] - Time: 12.97s - Loss: 0.18687373797098797\n",
      "Training Loss: 0.20320394793946542 - Val Loss: 0.2009028886159261 - Scaled Val Loss: 0.04656819123240662\n",
      "Epoch 7/15\n",
      "6368/6368 [==============================] - Time: 12.93s - Loss: 0.19683322906494144\n",
      "Training Loss: 0.19386254011885803 - Val Loss: 0.19397259330749514 - Scaled Val Loss: 0.044615599686124566\n",
      "Epoch 8/15\n",
      "6368/6368 [==============================] - Time: 12.98s - Loss: 0.17709383964538575oss: 0.19125102361043295\n",
      "Training Loss: 0.18702998999974238 - Val Loss: 0.1867439565658569 - Scaled Val Loss: 0.04287071492742345\n",
      "Epoch 9/15\n",
      "6368/6368 [==============================] - Time: 12.83s - Loss: 0.16919558842976887\n",
      "Training Loss: 0.1805633876391592 - Val Loss: 0.18018375015258792 - Scaled Val Loss: 0.04140751309220012\n",
      "Epoch 10/15\n",
      "6368/6368 [==============================] - Time: 12.92s - Loss: 0.17001107533772786\n",
      "Training Loss: 0.1756280742098938 - Val Loss: 0.1761119200388591 - Scaled Val Loss: 0.040350206229462844\n",
      "Epoch 11/15\n",
      "6368/6368 [==============================] - Time: 13.27s - Loss: 0.17700859705607097\n",
      "Training Loss: 0.17120117374400992 - Val Loss: 0.1725243854522705 - Scaled Val Loss: 0.03925204778851455\n",
      "Epoch 12/15\n",
      "6368/6368 [==============================] - Time: 13.84s - Loss: 0.15931067466735845oss: 0.17647093137105305\n",
      "Training Loss: 0.16710272402419915 - Val Loss: 0.17093634764353438 - Scaled Val Loss: 0.03888510832079724\n",
      "Epoch 13/15\n",
      "6368/6368 [==============================] - Time: 13.05s - Loss: 0.17087766329447438\n",
      "Training Loss: 0.16410335468087764 - Val Loss: 0.16771161619822184 - Scaled Val Loss: 0.03835855420423291\n",
      "Epoch 14/15\n",
      "6368/6368 [==============================] - Time: 13.00s - Loss: 0.15022287368774415\n",
      "Training Loss: 0.16111074069037506 - Val Loss: 0.1649057470957438 - Scaled Val Loss: 0.03737438458198305\n",
      "Epoch 15/15\n",
      "6368/6368 [==============================] - Time: 13.00s - Loss: 0.17145123481750488\n",
      "Training Loss: 0.15855453329869051 - Val Loss: 0.16163041591644287 - Scaled Val Loss: 0.03686810704521317\n"
     ]
    },
    {
     "data": {
      "text/plain": [
       "<Figure size 432x288 with 0 Axes>"
      ]
     },
     "metadata": {},
     "output_type": "display_data"
    },
    {
     "data": {
      "image/png": "[encoded data removed]",
      "text/plain": [
       "<Figure size 432x288 with 1 Axes>"
      ]
     },
     "metadata": {
      "needs_background": "light"
     },
     "output_type": "display_data"
    }
   ],
   "source": [
    "encoder, encoder_opt = get_encoder(66)\n",
    "decoder, decoder_opt = get_attn_decoder(66, 'general')\n",
    "\n",
    "models = (encoder, decoder)\n",
    "opts = (encoder_opt, decoder_opt)\n",
    "\n",
    "fit(models, opts, epochs, dataloaders, criterion, scaler, use_attention=True)"
   ]
  },
  {
   "cell_type": "markdown",
   "metadata": {},
   "source": [
    "## Training the seq2seq model with bidirectional encoder and attention"
   ]
  },
  {
   "cell_type": "code",
   "execution_count": 79,
   "metadata": {},
   "outputs": [
    {
     "name": "stdout",
     "output_type": "stream",
     "text": [
      "Epoch 1/15\n",
      "6368/6368 [==============================] - Time: 14.14s - Loss: 0.27742211023966473\n",
      "Training Loss: 0.3394775181359781 - Val Loss: 0.25211158275604245 - Scaled Val Loss: 0.06133185112066971\n",
      "Epoch 2/15\n",
      "6368/6368 [==============================] - Time: 13.87s - Loss: 0.20340992609659832\n",
      "Training Loss: 0.22660876526505103 - Val Loss: 0.20745236206054693 - Scaled Val Loss: 0.04804651035332627\n",
      "Epoch 3/15\n",
      "6368/6368 [==============================] - Time: 13.92s - Loss: 0.17401712735493977\n",
      "Training Loss: 0.1974703688118326 - Val Loss: 0.18962123648325602 - Scaled Val Loss: 0.04358815335272571\n",
      "Epoch 4/15\n",
      "6368/6368 [==============================] - Time: 13.94s - Loss: 0.16357041994730637\n",
      "Training Loss: 0.18381139189753698 - Val Loss: 0.17921684424082435 - Scaled Val Loss: 0.04059808719323813\n",
      "Epoch 5/15\n",
      "6368/6368 [==============================] - Time: 13.90s - Loss: 0.17062155405680338\n",
      "Training Loss: 0.17437058864925775 - Val Loss: 0.17261907196044923 - Scaled Val Loss: 0.03904698292969754\n",
      "Epoch 6/15\n",
      "6368/6368 [==============================] - Time: 13.94s - Loss: 0.16087787946065266\n",
      "Training Loss: 0.1666714589999149 - Val Loss: 0.1670649900436401 - Scaled Val Loss: 0.037577705295010456\n",
      "Epoch 7/15\n",
      "6368/6368 [==============================] - Time: 13.88s - Loss: 0.15627600351969425\n",
      "Training Loss: 0.16044948536347303 - Val Loss: 0.16003167120615638 - Scaled Val Loss: 0.03592290852020607\n",
      "Epoch 8/15\n",
      "6368/6368 [==============================] - Time: 13.91s - Loss: 0.14769320487976073\n",
      "Training Loss: 0.15601049148457333 - Val Loss: 0.1581267312367757 - Scaled Val Loss: 0.0355549707235716\n",
      "Epoch 9/15\n",
      "6368/6368 [==============================] - Time: 13.88s - Loss: 0.15128038724263515\n",
      "Training Loss: 0.15249350945554188 - Val Loss: 0.15388137737909954 - Scaled Val Loss: 0.03467071134149552\n",
      "Epoch 10/15\n",
      "6368/6368 [==============================] - Time: 13.87s - Loss: 0.14288763999938964\n",
      "Training Loss: 0.14880866792733144 - Val Loss: 0.1533735858599345 - Scaled Val Loss: 0.03447959343695844\n",
      "Epoch 11/15\n",
      "6368/6368 [==============================] - Time: 13.87s - Loss: 0.17052721977233887\n",
      "Training Loss: 0.15490076505958136 - Val Loss: 0.15393098084131876 - Scaled Val Loss: 0.034678217050498776\n",
      "Epoch 12/15\n",
      "6368/6368 [==============================] - Time: 13.82s - Loss: 0.13064707120259603\n",
      "Training Loss: 0.14650062975571984 - Val Loss: 0.1483080898920695 - Scaled Val Loss: 0.0337008800687832\n",
      "Epoch 13/15\n",
      "6368/6368 [==============================] - Time: 13.90s - Loss: 0.15261322657267254\n",
      "Training Loss: 0.14239087388343746 - Val Loss: 0.14756115531921388 - Scaled Val Loss: 0.03336813024349809\n",
      "Epoch 14/15\n",
      "6368/6368 [==============================] - Time: 13.94s - Loss: 0.12945868968963622\n",
      "Training Loss: 0.13982253186467106 - Val Loss: 0.1433694610595703 - Scaled Val Loss: 0.032351916160899996\n",
      "Epoch 15/15\n",
      "6368/6368 [==============================] - Time: 13.92s - Loss: 0.14711009661356608\n",
      "Training Loss: 0.13883214575960806 - Val Loss: 0.14208820327123006 - Scaled Val Loss: 0.0323339033191164\n"
     ]
    },
    {
     "data": {
      "text/plain": [
       "<Figure size 432x288 with 0 Axes>"
      ]
     },
     "metadata": {},
     "output_type": "display_data"
    },
    {
     "data": {
      "image/png": "[encoded data removed]",
      "text/plain": [
       "<Figure size 432x288 with 1 Axes>"
      ]
     },
     "metadata": {
      "needs_background": "light"
     },
     "output_type": "display_data"
    }
   ],
   "source": [
    "encoder, encoder_opt = get_encoder(66, bidirectional=True)\n",
    "decoder, decoder_opt = get_attn_decoder(66, 'general', bidirectional_encoder=True)\n",
    "\n",
    "models = (encoder, decoder)\n",
    "opts = (encoder_opt, decoder_opt)\n",
    "\n",
    "fit(models, opts, epochs, dataloaders, criterion, scaler, use_attention=True)"
   ]
  },
  {
   "cell_type": "code",
   "execution_count": null,
   "metadata": {},
   "outputs": [],
   "source": []
  }
 ],
 "metadata": {
  "kernelspec": {
   "display_name": "Python 3",
   "language": "python",
   "name": "python3"
  },
  "language_info": {
   "codemirror_mode": {
    "name": "ipython",
    "version": 3
   },
   "file_extension": ".py",
   "mimetype": "text/x-python",
   "name": "python",
   "nbconvert_exporter": "python",
   "pygments_lexer": "ipython3",
   "version": "3.7.2"
  }
 },
 "nbformat": 4,
 "nbformat_minor": 2
}
