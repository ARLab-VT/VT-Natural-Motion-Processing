{
 "cells": [
  {
   "cell_type": "markdown",
   "metadata": {},
   "source": [
    "# Seq2Seq Modeling for Joint Angle Prediction"
   ]
  },
  {
   "cell_type": "code",
   "execution_count": 1,
   "metadata": {},
   "outputs": [],
   "source": [
    "%load_ext autoreload\n",
    "%autoreload 2"
   ]
  },
  {
   "cell_type": "code",
   "execution_count": 2,
   "metadata": {},
   "outputs": [
    {
     "data": {
      "text/plain": [
       "<torch._C.Generator at 0x7f3bc5459c90>"
      ]
     },
     "execution_count": 2,
     "metadata": {},
     "output_type": "execute_result"
    }
   ],
   "source": [
    "import torch\n",
    "from torch import nn\n",
    "from torch import optim\n",
    "from torch import Tensor\n",
    "import torch.nn.functional as F\n",
    "from data_utils import *\n",
    "from torch_utils import *\n",
    "import numpy as np\n",
    "import pandas as pd\n",
    "from sklearn.preprocessing import RobustScaler\n",
    "from sklearn.preprocessing import MaxAbsScaler\n",
    "from pathlib import Path\n",
    "import math, random, time, os\n",
    "import matplotlib.pyplot as plt\n",
    "plt.switch_backend('agg')\n",
    "import matplotlib.ticker as ticker\n",
    "torch.manual_seed(0)"
   ]
  },
  {
   "cell_type": "code",
   "execution_count": 3,
   "metadata": {},
   "outputs": [],
   "source": [
    "device = torch.device(\"cuda\" if torch.cuda.is_available() else \"cpu\")"
   ]
  },
  {
   "cell_type": "markdown",
   "metadata": {},
   "source": [
    "## Dataset Management"
   ]
  },
  {
   "cell_type": "code",
   "execution_count": 4,
   "metadata": {},
   "outputs": [],
   "source": [
    "data_path = Path('../csv-files')\n",
    "filenames = os.listdir(data_path)\n",
    "\n",
    "joint_requests = {'Joint' : ['jL5S1','jL4L3','jL1T12','jT9T8','jT1C7','jC1Head',\n",
    "                             'jRightC7Shoulder','jRightShoulder','jRightElbow','jRightWrist',\n",
    "                             'jLeftC7Shoulder','jLeftShoulder','jLeftElbow','jLeftWrist',\n",
    "                             'jRightHip','jRightKnee','jRightAnkle','jRightBallFoot',\n",
    "                             'jLeftHip','jLeftKnee','jLeftAnkle','jLeftBallFoot']}"
   ]
  },
  {
   "cell_type": "code",
   "execution_count": 5,
   "metadata": {},
   "outputs": [
    {
     "name": "stdout",
     "output_type": "stream",
     "text": [
      "Done with reading files\n",
      "Number of frames in dataset: 537360\n",
      "Number of bytes: 283726080\n"
     ]
    }
   ],
   "source": [
    "positions = None\n",
    "joint_angles = None\n",
    "seq_length = 120\n",
    "\n",
    "for idx, file in enumerate(filenames[:2]):\n",
    "    joint_target_columns = request_indices(joint_requests)\n",
    "    print(\"Index: \" + str(idx + 1), end='\\r')\n",
    "    joint_angles_temp = pd.read_csv(data_path / file, \n",
    "                                    delimiter=',', \n",
    "                                    usecols=joint_target_columns, \n",
    "                                    header=0).values\n",
    "    \n",
    "    joint_angles_temp = discard_remainder(joint_angles_temp, seq_length)\n",
    "    if idx == 0:\n",
    "        joint_angles = joint_angles_temp\n",
    "    else:\n",
    "        joint_angles = np.concatenate((joint_angles, joint_angles_temp), axis=0)\n",
    "        \n",
    "print(\"Done with reading files\")\n",
    "\n",
    "joint_angles = joint_angles*(np.pi/180.)\n",
    "\n",
    "scaler = RobustScaler().fit(joint_angles)\n",
    "joint_angles = scaler.transform(joint_angles)\n",
    "\n",
    "print(\"Number of frames in dataset:\", joint_angles.shape[0])\n",
    "print(\"Number of bytes:\", joint_angles.nbytes)\n",
    "\n",
    "joint_angles = reshape_to_sequences(joint_angles, seq_length=seq_length) "
   ]
  },
  {
   "cell_type": "code",
   "execution_count": 6,
   "metadata": {},
   "outputs": [],
   "source": [
    "encoder_input_data, decoder_target_data = split_sequences(joint_angles, seq_length=seq_length)\n",
    "del joint_angles\n",
    "\n",
    "batch_size = 32\n",
    "encoder_input_data = discard_remainder(encoder_input_data, batch_size)\n",
    "decoder_target_data = discard_remainder(decoder_target_data, batch_size)"
   ]
  },
  {
   "cell_type": "markdown",
   "metadata": {},
   "source": [
    "## Refactor using Dataset\n",
    "------------------------------\n",
    "\n",
    "PyTorch has an abstract Dataset class.  A Dataset can be anything that has\n",
    "a ``__len__`` function (called by Python's standard ``len`` function) and\n",
    "a ``__getitem__`` function as a way of indexing into it.\n",
    "__[This tutorial](https://pytorch.org/tutorials/beginner/data_loading_tutorial.html)__\n",
    "walks through a nice example of creating a custom ``FacialLandmarkDataset`` class\n",
    "as a subclass of ``Dataset``.\n",
    "\n",
    "PyTorch's __[TensorDataset](https://pytorch.org/docs/stable/_modules/torch/utils/data/dataset.html#TensorDataset)__\n",
    "is a Dataset wrapping tensors. **By defining a length and way of indexing,\n",
    "this also gives us a way to iterate, index, and slice along the first\n",
    "dimension of a tensor.** This will make it easier to access both the\n",
    "independent and dependent variables in the same line as we train.\n"
   ]
  },
  {
   "cell_type": "code",
   "execution_count": 7,
   "metadata": {},
   "outputs": [],
   "source": [
    "from torch.utils.data import TensorDataset, DataLoader, random_split"
   ]
  },
  {
   "cell_type": "code",
   "execution_count": 8,
   "metadata": {},
   "outputs": [],
   "source": [
    "encoder_input_data = torch.tensor(encoder_input_data).to(device)\n",
    "decoder_target_data = torch.tensor(decoder_target_data).to(device)"
   ]
  },
  {
   "cell_type": "code",
   "execution_count": 9,
   "metadata": {},
   "outputs": [],
   "source": [
    "dataset = TensorDataset(encoder_input_data, decoder_target_data)\n",
    "\n",
    "train_size_approx = int(0.8 * len(dataset))\n",
    "train_size = train_size_approx - (train_size_approx % batch_size)\n",
    "val_size = len(dataset) - train_size\n",
    "\n",
    "train_dataset, val_dataset = random_split(dataset, [train_size, val_size])"
   ]
  },
  {
   "cell_type": "code",
   "execution_count": 10,
   "metadata": {},
   "outputs": [],
   "source": [
    "train_dataloader = DataLoader(train_dataset, batch_size=batch_size, shuffle=True)\n",
    "val_dataloader = DataLoader(val_dataset, batch_size=batch_size, shuffle=False)"
   ]
  },
  {
   "cell_type": "code",
   "execution_count": 11,
   "metadata": {},
   "outputs": [
    {
     "name": "stdout",
     "output_type": "stream",
     "text": [
      "Number of training samples: 3552\n",
      "Number of validation samples: 896\n"
     ]
    }
   ],
   "source": [
    "print(\"Number of training samples:\", len(train_dataset))\n",
    "print(\"Number of validation samples:\", len(val_dataset))"
   ]
  },
  {
   "cell_type": "markdown",
   "metadata": {},
   "source": [
    "## Zero-Velocity Baseline"
   ]
  },
  {
   "cell_type": "code",
   "execution_count": 12,
   "metadata": {},
   "outputs": [],
   "source": [
    "def zero_velocity_baseline(data, criterion):\n",
    "    loss = 0\n",
    "    \n",
    "    input_batch, target_batch = data\n",
    "\n",
    "    seq_length = input_batch.shape[1]\n",
    "    \n",
    "    last_input = input_batch[:, -1, :].unsqueeze(0).float()\n",
    "    \n",
    "    for t in range(seq_length):\n",
    "        target = target_batch[:, t, :].unsqueeze(0).float()\n",
    "        loss += criterion(torch.tensor(scaler.inverse_transform(last_input.squeeze(0).cpu())), \n",
    "                          torch.tensor(scaler.inverse_transform(target.squeeze(0).cpu())))\n",
    "        \n",
    "    return loss.item() / seq_length"
   ]
  },
  {
   "cell_type": "code",
   "execution_count": 13,
   "metadata": {},
   "outputs": [],
   "source": [
    "def calculate_zero_velocity_loss(dataloaders, criterion):\n",
    "    \n",
    "    train_dataloader, val_dataloader = dataloaders\n",
    "    \n",
    "    losses = [zero_velocity_baseline(data, criterion) for _, data in enumerate(train_dataloader, 0)]\n",
    "\n",
    "    val_losses = [zero_velocity_baseline(data, criterion) for _, data in enumerate(val_dataloader, 0)]\n",
    "\n",
    "    loss = np.sum(losses) / len(losses)\n",
    "    val_loss = np.sum(val_losses) / len(val_losses)\n",
    "\n",
    "    print()\n",
    "    print(\"Training Loss: \" + str(loss), \"Val Loss: \" + str(val_loss))"
   ]
  },
  {
   "cell_type": "markdown",
   "metadata": {},
   "source": [
    "## Seq2Seq Model"
   ]
  },
  {
   "cell_type": "markdown",
   "metadata": {},
   "source": [
    "### Encoder"
   ]
  },
  {
   "cell_type": "code",
   "execution_count": 14,
   "metadata": {},
   "outputs": [],
   "source": [
    "class EncoderRNN(nn.Module):\n",
    "    def __init__(self, input_size, hidden_size, batch_size, dropout=0.0, bidirectional=False):\n",
    "        super(EncoderRNN, self).__init__()\n",
    "        \n",
    "        self.hidden_size = hidden_size\n",
    "        self.batch_size = batch_size\n",
    "        self.bidirectional = bidirectional\n",
    "\n",
    "        self.gru = nn.GRU(input_size, hidden_size, bidirectional=bidirectional)\n",
    "        \n",
    "        if self.bidirectional:\n",
    "            self.fc = nn.Linear(hidden_size * 2, hidden_size)\n",
    "\n",
    "    def forward(self, input):\n",
    "        output, hidden = self.gru(input)\n",
    "        \n",
    "        if self.bidirectional:\n",
    "            hidden = torch.tanh(self.fc(torch.cat((hidden[-2,:,:], hidden[-1,:,:]), dim = 1))).unsqueeze(0)\n",
    "        \n",
    "        return output, hidden"
   ]
  },
  {
   "cell_type": "markdown",
   "metadata": {},
   "source": [
    "### Decoder"
   ]
  },
  {
   "cell_type": "code",
   "execution_count": 15,
   "metadata": {},
   "outputs": [],
   "source": [
    "class DecoderRNN(nn.Module):\n",
    "    def __init__(self, input_size, hidden_size, output_size, batch_size):\n",
    "        super(DecoderRNN, self).__init__()\n",
    "        self.hidden_size = hidden_size\n",
    "        self.batch_size = batch_size\n",
    "\n",
    "        self.gru = nn.GRU(input_size, hidden_size)\n",
    "        self.out = nn.Linear(hidden_size, output_size)\n",
    "        \n",
    "    def forward(self, input, hidden):\n",
    "        output, hidden = self.gru(input, hidden)\n",
    "        output = self.out(output)\n",
    "        return output, hidden\n",
    "\n",
    "    def initHidden(self):\n",
    "        return torch.zeros(1, self.batch_size, self.hidden_size, device=device)"
   ]
  },
  {
   "cell_type": "markdown",
   "metadata": {},
   "source": [
    "## Seq2Seq Model with Attention\n",
    "\n",
    "Modified from __[here](https://github.com/bentrevett/pytorch-seq2seq/blob/master/3%20-%20Neural%20Machine%20Translation%20by%20Jointly%20Learning%20to%20Align%20and%20Translate.ipynb)__ and __[here](https://towardsdatascience.com/attention-seq2seq-with-pytorch-learning-to-invert-a-sequence-34faf4133e53)__, which are great tutorials on different seq2seq models and attention. The Attention module uses Luong et al. This is also known as \"general\" attention."
   ]
  },
  {
   "cell_type": "markdown",
   "metadata": {},
   "source": [
    "### Attention Module"
   ]
  },
  {
   "cell_type": "code",
   "execution_count": 16,
   "metadata": {},
   "outputs": [],
   "source": [
    "class Attention(nn.Module):\n",
    "    def __init__(self, hidden_size, batch_size, method, bidirectional_encoder=False):\n",
    "        super().__init__()\n",
    "        \n",
    "        self.batch_size = batch_size\n",
    "        self.hidden_size = hidden_size\n",
    "        self.method = method\n",
    "        self.directions = 1\n",
    "        \n",
    "        if bidirectional_encoder:\n",
    "            self.directions = 2\n",
    "        \n",
    "        if method == 'dot':\n",
    "            pass\n",
    "        elif method == 'general':\n",
    "            self.Wa = nn.Linear(hidden_size, self.directions*hidden_size, bias=False)\n",
    "        elif method == 'concat':\n",
    "            self.Wa = nn.Linear((2*hidden_size) + hidden_size, hidden_size, bias=False)\n",
    "            self.va = nn.Parameter(torch.rand(hidden_size))\n",
    "        \n",
    "    def forward(self, hidden, encoder_outputs):\n",
    "        \n",
    "        #hidden = [1, batch_size, hidden_size]\n",
    "        #encoder_outputs = [seq_len, batch_size, 2*hidden_size]\n",
    "        \n",
    "        assert self.batch_size == encoder_outputs.shape[1]\n",
    "        self.seq_len = encoder_outputs.shape[0]\n",
    "        \n",
    "        hidden = hidden.squeeze(0)\n",
    "        #hidden = [batch_size, hidden_size]\n",
    "        \n",
    "        encoder_outputs = encoder_outputs.permute(1, 0, 2)\n",
    "        #encoder_outputs = [batch_size, seq_len, 2*hidden_size]\n",
    "        \n",
    "        score = self._score(hidden, encoder_outputs)\n",
    "        #score = [batch_size, seq_len]\n",
    "        \n",
    "        return F.softmax(score, dim=1)\n",
    "    \n",
    "    def _score(self, hidden, encoder_outputs):\n",
    "        \"\"\"\n",
    "        Computes an attention score\n",
    "        :param hidden: (batch_size, hidden_dim)\n",
    "        :param encoder_outputs: (batch_size, seq_len, hidden_dim)\n",
    "        :return: a score (batch_size, seq_len)\n",
    "        \"\"\"\n",
    "        \n",
    "        if self.method == 'dot':\n",
    "            hidden = hidden.unsqueeze(-1)\n",
    "            hidden = hidden.repeat(1, self.directions, 1)\n",
    "            score = encoder_outputs.bmm(hidden).squeeze(-1)\n",
    "            return score\n",
    "\n",
    "        elif self.method == 'general':\n",
    "            x = self.Wa(hidden)\n",
    "            x = x.unsqueeze(-1)\n",
    "            score = encoder_outputs.bmm(x).squeeze(-1)\n",
    "            return score\n",
    "\n",
    "        elif self.method == 'concat':\n",
    "            hidden = hidden.unsqueeze(1).repeat(1, self.seq_len, 1)\n",
    "            energy = torch.tanh(self.Wa(torch.cat((hidden, encoder_outputs), 2)))\n",
    "            energy = energy.permute(0, 2, 1)\n",
    "            va = self.va.repeat(self.batch_size, 1).unsqueeze(1)\n",
    "            score = torch.bmm(va, energy).squeeze(1)\n",
    "            return score"
   ]
  },
  {
   "cell_type": "markdown",
   "metadata": {},
   "source": [
    "### Attention Decoder"
   ]
  },
  {
   "cell_type": "code",
   "execution_count": 17,
   "metadata": {},
   "outputs": [],
   "source": [
    "class AttnDecoderRNN(nn.Module):\n",
    "    def __init__(self, output_dim, features_dim, enc_hidden_size, dec_hidden_size, attention, bidirectional_encoder=False):\n",
    "        super().__init__()\n",
    "        \n",
    "        self.enc_hidden_size = enc_hidden_size\n",
    "        self.dec_hidden_size = dec_hidden_size\n",
    "        self.output_dim = output_dim\n",
    "        self.features_dim = features_dim\n",
    "        self.attention = attention\n",
    "        \n",
    "        self.directions = 1\n",
    "        if bidirectional_encoder:\n",
    "            self.directions = 2\n",
    "\n",
    "        \n",
    "        self.rnn = nn.GRU(self.directions*enc_hidden_size + features_dim, dec_hidden_size)\n",
    "        \n",
    "        self.out = nn.Linear(self.directions*enc_hidden_size + dec_hidden_size + features_dim, output_dim)\n",
    "        \n",
    "    def forward(self, input, hidden, encoder_outputs):\n",
    "             \n",
    "        #input = [1, batch size, enc hid dem]\n",
    "        #hidden = [1, batch size, dec hid dim]\n",
    "        #encoder_outputs = [src sent len, batch size, enc hid dim * 2]\n",
    "        \n",
    "        a = self.attention(hidden, encoder_outputs)\n",
    "                \n",
    "        #a = [batch size, src len]\n",
    "        \n",
    "        a = a.unsqueeze(1)\n",
    "        \n",
    "        #a = [batch size, 1, src len]\n",
    "        \n",
    "        encoder_outputs = encoder_outputs.permute(1, 0, 2)\n",
    "        \n",
    "        #encoder_outputs = [batch size, seq len, enc hid dim]\n",
    "        \n",
    "        weighted = torch.bmm(a, encoder_outputs)\n",
    "        \n",
    "        #weighted = [batch size, 1, enc hid dim]\n",
    "        \n",
    "        weighted = weighted.permute(1, 0, 2)\n",
    "        \n",
    "        #weighted = [1, batch size, enc hid dim]\n",
    "        \n",
    "        rnn_input = torch.cat((input, weighted), dim = 2)\n",
    "        \n",
    "        #rnn_input = [1, batch size, enc hid dim + hid dim]\n",
    "        \n",
    "        output, hidden = self.rnn(rnn_input, hidden)\n",
    "        \n",
    "        #seq len, n layers and n directions will always be 1 in this decoder, therefore:\n",
    "        #output = [1, batch size, dec hid dim]\n",
    "        #hidden = [1, batch size, dec hid dim]\n",
    "        #this also means that output == hidden\n",
    "        assert (output == hidden).all()\n",
    "        \n",
    "        input = input.squeeze(0)\n",
    "        output = output.squeeze(0)\n",
    "        weighted = weighted.squeeze(0)\n",
    "        \n",
    "        output = self.out(torch.cat((output, weighted, input), dim = 1))\n",
    "        \n",
    "        #output = [bsz, output dim]\n",
    "        \n",
    "        return output.unsqueeze(0), hidden"
   ]
  },
  {
   "cell_type": "markdown",
   "metadata": {},
   "source": [
    "## Training"
   ]
  },
  {
   "cell_type": "code",
   "execution_count": 51,
   "metadata": {},
   "outputs": [],
   "source": [
    "def loss_batch(data, models, opts, criterion, teacher_forcing_ratio=0.0, use_attention=False):\n",
    "    encoder, decoder = models\n",
    "    input_batch, target_batch = data\n",
    "    \n",
    "    if opts is not None:\n",
    "        encoder_opt, decoder_opt = opts\n",
    "    \n",
    "    loss = 0\n",
    "    scaled_loss = 0        \n",
    "    seq_length = input_batch.shape[1]\n",
    "\n",
    "    input = input_batch.permute(1, 0, 2).float()\n",
    "    encoder_outputs, encoder_hidden = encoder(input)\n",
    "\n",
    "    decoder_hidden = encoder_hidden\n",
    "    decoder_input = torch.ones_like(target_batch[:, 0, :]).unsqueeze(0).float()\n",
    "    EOS = torch.zeros_like(target_batch[:, 0, :]).unsqueeze(0).float()\n",
    "\n",
    "    use_teacher_forcing = True if random.random() < teacher_forcing_ratio else False\n",
    "    \n",
    "    for t in range(seq_length):\n",
    "        \n",
    "        if use_attention:\n",
    "            decoder_output, decoder_hidden = decoder(decoder_input, decoder_hidden, encoder_outputs)\n",
    "        else:\n",
    "            decoder_output, decoder_hidden = decoder(decoder_input, decoder_hidden)\n",
    "            \n",
    "        target = target_batch[:, t, :].unsqueeze(0).float()\n",
    "        \n",
    "        loss += criterion(decoder_output, target)\n",
    "        \n",
    "        if opts is None:\n",
    "            scaled_loss += criterion(torch.tensor(scaler.inverse_transform(decoder_output.squeeze(0).cpu())), \n",
    "                                     torch.tensor(scaler.inverse_transform(target.squeeze(0).cpu())))\n",
    "        \n",
    "        if use_teacher_forcing:\n",
    "            decoder_input = target\n",
    "        else:\n",
    "            if torch.all(torch.eq(decoder_output, EOS)):\n",
    "                break\n",
    "            decoder_input = decoder_output.detach()\n",
    "\n",
    "    if opts is not None:\n",
    "        loss.backward()\n",
    "        \n",
    "        encoder_opt.step()\n",
    "        encoder_opt.zero_grad()\n",
    "\n",
    "        decoder_opt.step()\n",
    "        decoder_opt.zero_grad()\n",
    "    else:\n",
    "        scaled_loss = scaled_loss.item() / seq_length\n",
    "    \n",
    "    return loss.item() / seq_length, scaled_loss"
   ]
  },
  {
   "cell_type": "code",
   "execution_count": 52,
   "metadata": {},
   "outputs": [],
   "source": [
    "def fit(models, opts, epochs, dataloaders, criterion, \n",
    "        teacher_forcing_ratio=0.0, \n",
    "        update_learning_rates=None, \n",
    "        use_attention=False,\n",
    "        schedule_rate=1.0):\n",
    "    \n",
    "    train_dataloader, val_dataloader = dataloaders\n",
    "    \n",
    "    plot_losses = []\n",
    "    for epoch in range(epochs):\n",
    "        losses = []\n",
    "        train_total_time = 0\n",
    "        \n",
    "        if update_learning_rates is not None:\n",
    "            opts = update_learning_rates(opts, epoch)\n",
    "            \n",
    "        print(\"Epoch\", str(epoch+1) + \"/\" + str(epochs))\n",
    "        \n",
    "        for index, data in enumerate(train_dataloader, 0):\n",
    "            batch_size = len(data[0])\n",
    "            \n",
    "            start_time = time.time()\n",
    "            \n",
    "            loss, _ = loss_batch(data, models, \n",
    "                         opts, criterion,\n",
    "                         use_attention=use_attention) \n",
    "            \n",
    "            losses.append(loss)\n",
    "            \n",
    "            end_time = time.time()\n",
    "            total_time += end_time - start_time\n",
    "            \n",
    "            amount_complete = math.floor((index + 1) / len(train_dataloader) * 30)\n",
    "            amount_incomplete = (30 - amount_complete)\n",
    "            progress_bar = \"[\" + amount_complete*\"=\" + amount_incomplete*\"-\" + \"]\"\n",
    "            \n",
    "            print(\"%d/%d\" % (batch_size*(index+1), batch_size*len(train_dataloader)),\n",
    "                  progress_bar, \n",
    "                  \"- Time elapsed: %.2fs\" % total_time, \n",
    "                  \"- Loss: %.8f\" % loss, \n",
    "                  end=\"\\r\"\n",
    "                 )\n",
    "            \n",
    "        with torch.no_grad():\n",
    "            val_losses, scaled_val_losses = zip(\n",
    "                                            *[loss_batch(data, models, None, criterion, use_attention=use_attention) \n",
    "                                            for _, data in enumerate(val_dataloader, 0)]\n",
    "            )\n",
    "            \n",
    "        loss = np.sum(losses) / len(losses)\n",
    "        val_loss = np.sum(val_losses) / len(val_losses)\n",
    "        scaled_val_loss = np.sum(scaled_val_losses) / len(scaled_val_losses)\n",
    "        \n",
    "        plot_losses.append((loss, val_loss))\n",
    "        \n",
    "        print()\n",
    "        print(\"Training Loss: %.8f - Val Loss: %.8f - Scaled Val Loss: %.8f\" % (loss, val_loss, scaled_val_loss))\n",
    "        \n",
    "        teacher_forcing_ratio *= schedule_rate\n",
    "    \n",
    "    showPlot(plot_losses, epochs)"
   ]
  },
  {
   "cell_type": "code",
   "execution_count": 20,
   "metadata": {},
   "outputs": [],
   "source": [
    "def update_learning_rates(opts, epoch, schedule=0.9):\n",
    "    if (epoch + 1) == 5:\n",
    "        for opt in opts:\n",
    "            for param_group in opt.param_groups:\n",
    "                param_group['lr'] *= (1 - schedule**(epoch+1))\n",
    "            \n",
    "    return opts"
   ]
  },
  {
   "cell_type": "code",
   "execution_count": 21,
   "metadata": {},
   "outputs": [],
   "source": [
    "def get_encoder(num_features, hidden_size=64, lr=0.001, bs=batch_size, bidirectional=False):\n",
    "    encoder = EncoderRNN(num_features, hidden_size, bs, bidirectional=bidirectional).to(device)\n",
    "    return encoder, optim.Adam(encoder.parameters(), lr=lr)\n",
    "\n",
    "def get_decoder(num_features, hidden_size=64, lr=0.001, bs=batch_size):\n",
    "    decoder = DecoderRNN(num_features, hidden_size, num_features, bs).to(device)\n",
    "    return decoder, optim.Adam(decoder.parameters(), lr=lr)\n",
    "\n",
    "def get_attn_decoder(num_features, method, hidden_size=64, lr=0.001, bs=batch_size, bidirectional_encoder=False):\n",
    "    attn = Attention(hidden_size, bs, method, bidirectional_encoder=bidirectional_encoder)\n",
    "    decoder = AttnDecoderRNN(num_features, num_features, hidden_size, hidden_size, attn, bidirectional_encoder=bidirectional_encoder).to(device)\n",
    "    return decoder, optim.Adam(decoder.parameters(), lr=lr)"
   ]
  },
  {
   "cell_type": "code",
   "execution_count": 22,
   "metadata": {},
   "outputs": [],
   "source": [
    "def showPlot(points, epochs):\n",
    "    points = np.array(points)\n",
    "    plt.figure()\n",
    "    fig, ax = plt.subplots()\n",
    "    x = range(1, epochs+1)\n",
    "    plt.plot(x, points[:,0], 'b-')\n",
    "    plt.plot(x, points[:,1], 'r-')\n",
    "    plt.legend(['training loss', 'val loss'])"
   ]
  },
  {
   "cell_type": "code",
   "execution_count": 23,
   "metadata": {},
   "outputs": [],
   "source": [
    "epochs = 15\n",
    "\n",
    "dataloaders = (train_dataloader, val_dataloader)\n",
    "\n",
    "criterion = nn.L1Loss()"
   ]
  },
  {
   "cell_type": "markdown",
   "metadata": {},
   "source": [
    "## Zero-velocity baseline"
   ]
  },
  {
   "cell_type": "code",
   "execution_count": 24,
   "metadata": {},
   "outputs": [
    {
     "name": "stdout",
     "output_type": "stream",
     "text": [
      "\n",
      "Training Loss: 0.03529511859962112 Val Loss: 0.03457983762791939\n"
     ]
    }
   ],
   "source": [
    "calculate_zero_velocity_loss(dataloaders, criterion)"
   ]
  },
  {
   "cell_type": "markdown",
   "metadata": {},
   "source": [
    "## Training the seq2seq model"
   ]
  },
  {
   "cell_type": "code",
   "execution_count": 54,
   "metadata": {},
   "outputs": [
    {
     "name": "stdout",
     "output_type": "stream",
     "text": [
      "Epoch 1/15\n",
      "3552/3552 [==============================] - Time elapsed: 7.61s - Loss: 2.87316640\n",
      "Training Loss: 3.71708545 - Val Loss: 3.62100264 - Scaled Val Loss: 0.10692508\n",
      "Epoch 2/15\n",
      "3552/3552 [==============================] - Time elapsed: 7.58s - Loss: 4.64502004\n",
      "Training Loss: 3.57999315 - Val Loss: 3.51871664 - Scaled Val Loss: 0.08271593\n",
      "Epoch 3/15\n",
      "3552/3552 [==============================] - Time elapsed: 7.54s - Loss: 2.29161987\n",
      "Training Loss: 3.51133962 - Val Loss: 3.47447519 - Scaled Val Loss: 0.07407686\n",
      "Epoch 4/15\n",
      "3552/3552 [==============================] - Time elapsed: 7.55s - Loss: 2.45678431\n",
      "Training Loss: 3.47170195 - Val Loss: 3.44481716 - Scaled Val Loss: 0.06937893\n",
      "Epoch 5/15\n",
      "3552/3552 [==============================] - Time elapsed: 7.56s - Loss: 2.50452118\n",
      "Training Loss: 3.44433006 - Val Loss: 3.41823026 - Scaled Val Loss: 0.06544751\n",
      "Epoch 6/15\n",
      "3552/3552 [==============================] - Time elapsed: 7.86s - Loss: 3.21036504\n",
      "Training Loss: 3.41962044 - Val Loss: 3.39597280 - Scaled Val Loss: 0.06200422\n",
      "Epoch 7/15\n",
      "3552/3552 [==============================] - Time elapsed: 7.90s - Loss: 3.70075328\n",
      "Training Loss: 3.39874873 - Val Loss: 3.38087983 - Scaled Val Loss: 0.06108556\n",
      "Epoch 8/15\n",
      "3552/3552 [==============================] - Time elapsed: 7.88s - Loss: 6.11358185\n",
      "Training Loss: 3.38070210 - Val Loss: 3.36395965 - Scaled Val Loss: 0.05959674\n",
      "Epoch 9/15\n",
      "3552/3552 [==============================] - Time elapsed: 7.91s - Loss: 3.60454788\n",
      "Training Loss: 3.36209962 - Val Loss: 3.34580413 - Scaled Val Loss: 0.05851892\n",
      "Epoch 10/15\n",
      "3552/3552 [==============================] - Time elapsed: 7.59s - Loss: 4.01648076\n",
      "Training Loss: 3.34302486 - Val Loss: 3.33226747 - Scaled Val Loss: 0.05760544\n",
      "Epoch 11/15\n",
      "3552/3552 [==============================] - Time elapsed: 7.63s - Loss: 2.14592260\n",
      "Training Loss: 3.32407698 - Val Loss: 3.31748366 - Scaled Val Loss: 0.05675961\n",
      "Epoch 12/15\n",
      "3552/3552 [==============================] - Time elapsed: 8.36s - Loss: 2.86544139\n",
      "Training Loss: 3.30823667 - Val Loss: 3.30039390 - Scaled Val Loss: 0.05643029\n",
      "Epoch 13/15\n",
      "3552/3552 [==============================] - Time elapsed: 8.18s - Loss: 2.00173670\n",
      "Training Loss: 3.28985165 - Val Loss: 3.28686176 - Scaled Val Loss: 0.05545789\n",
      "Epoch 14/15\n",
      "3552/3552 [==============================] - Time elapsed: 7.59s - Loss: 2.57557042\n",
      "Training Loss: 3.27209373 - Val Loss: 3.26800515 - Scaled Val Loss: 0.05476185\n",
      "Epoch 15/15\n",
      "3552/3552 [==============================] - Time elapsed: 7.59s - Loss: 4.14764887\n",
      "Training Loss: 3.25586193 - Val Loss: 3.25687529 - Scaled Val Loss: 0.05426794\n"
     ]
    },
    {
     "data": {
      "text/plain": [
       "<Figure size 432x288 with 0 Axes>"
      ]
     },
     "metadata": {},
     "output_type": "display_data"
    },
    {
     "data": {
      "image/png": "[encoded data removed]",
      "text/plain": [
       "<Figure size 432x288 with 1 Axes>"
      ]
     },
     "metadata": {
      "needs_background": "light"
     },
     "output_type": "display_data"
    }
   ],
   "source": [
    "encoder, encoder_opt = get_encoder(66)\n",
    "decoder, decoder_opt = get_decoder(66)\n",
    "\n",
    "models = (encoder, decoder)\n",
    "opts = (encoder_opt, decoder_opt)\n",
    "\n",
    "fit(models, opts, epochs, dataloaders, criterion)"
   ]
  },
  {
   "cell_type": "markdown",
   "metadata": {},
   "source": [
    "## Training the seq2seq model with a bidirectional encoder"
   ]
  },
  {
   "cell_type": "code",
   "execution_count": 75,
   "metadata": {},
   "outputs": [
    {
     "name": "stdout",
     "output_type": "stream",
     "text": [
      "Epoch 1/15\n",
      "6368/6368 [==============================] - Time: 8.67s - Loss: 0.40367654164632165\n",
      "Training Loss: 0.49831792377746686 - Val Loss: 0.38531674766540536 - Scaled Val Loss: 0.1003493676088363\n",
      "Epoch 2/15\n",
      "6368/6368 [==============================] - Time: 8.18s - Loss: 0.32493263880411787\n",
      "Training Loss: 0.3395570895579991 - Val Loss: 0.31397492027282714 - Scaled Val Loss: 0.0805495836825003\n",
      "Epoch 3/15\n",
      "6368/6368 [==============================] - Time: 8.24s - Loss: 0.28481508890787765\n",
      "Training Loss: 0.29490614736100135 - Val Loss: 0.2851898959477742 - Scaled Val Loss: 0.07251643977079714\n",
      "Epoch 4/15\n",
      "6368/6368 [==============================] - Time: 8.49s - Loss: 0.27361691792805993\n",
      "Training Loss: 0.2708202454712323 - Val Loss: 0.265952641805013 - Scaled Val Loss: 0.06713984170491118\n",
      "Epoch 5/15\n",
      "6368/6368 [==============================] - Time: 8.49s - Loss: 0.26088457107543944\n",
      "Training Loss: 0.2523286293898795 - Val Loss: 0.2548425184885661 - Scaled Val Loss: 0.06402482431627077\n",
      "Epoch 6/15\n",
      "6368/6368 [==============================] - Time: 8.27s - Loss: 0.25746637980143234\n",
      "Training Loss: 0.245177338949999 - Val Loss: 0.2484268191655477 - Scaled Val Loss: 0.0622511600608912\n",
      "Epoch 7/15\n",
      "6368/6368 [==============================] - Time: 8.82s - Loss: 0.24364190101623534\n",
      "Training Loss: 0.23960529004708808 - Val Loss: 0.2433968159357707 - Scaled Val Loss: 0.06085279378287685\n",
      "Epoch 8/15\n",
      "6368/6368 [==============================] - Time: 8.37s - Loss: 0.29577433268229164\n",
      "Training Loss: 0.23475085774458435 - Val Loss: 0.23867597039540608 - Scaled Val Loss: 0.05951149556541409\n",
      "Epoch 9/15\n",
      "6368/6368 [==============================] - Time: 8.74s - Loss: 0.22405177752176922\n",
      "Training Loss: 0.23017196559426772 - Val Loss: 0.23506911214192708 - Scaled Val Loss: 0.058517223433136374\n",
      "Epoch 10/15\n",
      "6368/6368 [==============================] - Time: 8.18s - Loss: 0.22565622329711915\n",
      "Training Loss: 0.2263368140113613 - Val Loss: 0.23070338090260822 - Scaled Val Loss: 0.057190673326228084\n",
      "Epoch 11/15\n",
      "6368/6368 [==============================] - Time: 8.29s - Loss: 0.22889483769734778\n",
      "Training Loss: 0.22262678649557294 - Val Loss: 0.22801041475931808 - Scaled Val Loss: 0.05649139450225134\n",
      "Epoch 12/15\n",
      "6368/6368 [==============================] - Time: 8.35s - Loss: 0.20758573214213052\n",
      "Training Loss: 0.21947252195284794 - Val Loss: 0.2240171248118083 - Scaled Val Loss: 0.055340922011320064\n",
      "Epoch 13/15\n",
      "6368/6368 [==============================] - Time: 8.48s - Loss: 0.18791952133178716\n",
      "Training Loss: 0.2162890403913693 - Val Loss: 0.2218559052149455 - Scaled Val Loss: 0.054684767782812616\n",
      "Epoch 14/15\n",
      "6368/6368 [==============================] - Time: 8.59s - Loss: 0.22636129061381022\n",
      "Training Loss: 0.21334098539560084 - Val Loss: 0.21886428260803226 - Scaled Val Loss: 0.053886144169433624\n",
      "Epoch 15/15\n",
      "6368/6368 [==============================] - Time: 8.70s - Loss: 0.20644623438517254\n",
      "Training Loss: 0.21071819188806482 - Val Loss: 0.21625020472208661 - Scaled Val Loss: 0.05319236648481638\n"
     ]
    },
    {
     "data": {
      "text/plain": [
       "<Figure size 432x288 with 0 Axes>"
      ]
     },
     "metadata": {},
     "output_type": "display_data"
    },
    {
     "data": {
      "image/png": "[encoded data removed]",
      "text/plain": [
       "<Figure size 432x288 with 1 Axes>"
      ]
     },
     "metadata": {
      "needs_background": "light"
     },
     "output_type": "display_data"
    }
   ],
   "source": [
    "encoder, encoder_opt = get_encoder(66, bidirectional=True)\n",
    "decoder, decoder_opt = get_decoder(66)\n",
    "\n",
    "models = (encoder, decoder)\n",
    "opts = (encoder_opt, decoder_opt)\n",
    "\n",
    "fit(models, opts, epochs, dataloaders, criterion, update_learning_rates=update_learning_rates)"
   ]
  },
  {
   "cell_type": "markdown",
   "metadata": {},
   "source": [
    "## Training the seq2seq model with attention"
   ]
  },
  {
   "cell_type": "code",
   "execution_count": 78,
   "metadata": {},
   "outputs": [
    {
     "name": "stdout",
     "output_type": "stream",
     "text": [
      "Epoch 1/15\n",
      "6368/6368 [==============================] - Time: 13.03s - Loss: 0.28657741546630867\n",
      "Training Loss: 0.3844551008151005 - Val Loss: 0.3059776973724365 - Scaled Val Loss: 0.07617483466081483\n",
      "Epoch 2/15\n",
      "6368/6368 [==============================] - Time: 12.89s - Loss: 0.23324629465738933\n",
      "Training Loss: 0.2792498328178572 - Val Loss: 0.25958847173055016 - Scaled Val Loss: 0.06293677614934134\n",
      "Epoch 3/15\n",
      "6368/6368 [==============================] - Time: 12.90s - Loss: 0.24156084060668945\n",
      "Training Loss: 0.24673716323060207 - Val Loss: 0.2362577997843425 - Scaled Val Loss: 0.056540121402971745\n",
      "Epoch 4/15\n",
      "6368/6368 [==============================] - Time: 12.94s - Loss: 0.22435520490010582\n",
      "Training Loss: 0.22793481641478675 - Val Loss: 0.2206785415013631 - Scaled Val Loss: 0.05197896302965086\n",
      "Epoch 5/15\n",
      "6368/6368 [==============================] - Time: 12.93s - Loss: 0.19855694770812987\n",
      "Training Loss: 0.21371006470429438 - Val Loss: 0.20992007382710776 - Scaled Val Loss: 0.04907614898730738\n",
      "Epoch 6/15\n",
      "6368/6368 [==============================] - Time: 12.97s - Loss: 0.18687373797098797\n",
      "Training Loss: 0.20320394793946542 - Val Loss: 0.2009028886159261 - Scaled Val Loss: 0.04656819123240662\n",
      "Epoch 7/15\n",
      "6368/6368 [==============================] - Time: 12.93s - Loss: 0.19683322906494144\n",
      "Training Loss: 0.19386254011885803 - Val Loss: 0.19397259330749514 - Scaled Val Loss: 0.044615599686124566\n",
      "Epoch 8/15\n",
      "6368/6368 [==============================] - Time: 12.98s - Loss: 0.17709383964538575oss: 0.19125102361043295\n",
      "Training Loss: 0.18702998999974238 - Val Loss: 0.1867439565658569 - Scaled Val Loss: 0.04287071492742345\n",
      "Epoch 9/15\n",
      "6368/6368 [==============================] - Time: 12.83s - Loss: 0.16919558842976887\n",
      "Training Loss: 0.1805633876391592 - Val Loss: 0.18018375015258792 - Scaled Val Loss: 0.04140751309220012\n",
      "Epoch 10/15\n",
      "6368/6368 [==============================] - Time: 12.92s - Loss: 0.17001107533772786\n",
      "Training Loss: 0.1756280742098938 - Val Loss: 0.1761119200388591 - Scaled Val Loss: 0.040350206229462844\n",
      "Epoch 11/15\n",
      "6368/6368 [==============================] - Time: 13.27s - Loss: 0.17700859705607097\n",
      "Training Loss: 0.17120117374400992 - Val Loss: 0.1725243854522705 - Scaled Val Loss: 0.03925204778851455\n",
      "Epoch 12/15\n",
      "6368/6368 [==============================] - Time: 13.84s - Loss: 0.15931067466735845oss: 0.17647093137105305\n",
      "Training Loss: 0.16710272402419915 - Val Loss: 0.17093634764353438 - Scaled Val Loss: 0.03888510832079724\n",
      "Epoch 13/15\n",
      "6368/6368 [==============================] - Time: 13.05s - Loss: 0.17087766329447438\n",
      "Training Loss: 0.16410335468087764 - Val Loss: 0.16771161619822184 - Scaled Val Loss: 0.03835855420423291\n",
      "Epoch 14/15\n",
      "6368/6368 [==============================] - Time: 13.00s - Loss: 0.15022287368774415\n",
      "Training Loss: 0.16111074069037506 - Val Loss: 0.1649057470957438 - Scaled Val Loss: 0.03737438458198305\n",
      "Epoch 15/15\n",
      "6368/6368 [==============================] - Time: 13.00s - Loss: 0.17145123481750488\n",
      "Training Loss: 0.15855453329869051 - Val Loss: 0.16163041591644287 - Scaled Val Loss: 0.03686810704521317\n"
     ]
    },
    {
     "data": {
      "text/plain": [
       "<Figure size 432x288 with 0 Axes>"
      ]
     },
     "metadata": {},
     "output_type": "display_data"
    },
    {
     "data": {
      "image/png": "[encoded data removed]",
      "text/plain": [
       "<Figure size 432x288 with 1 Axes>"
      ]
     },
     "metadata": {
      "needs_background": "light"
     },
     "output_type": "display_data"
    }
   ],
   "source": [
    "encoder, encoder_opt = get_encoder(66)\n",
    "decoder, decoder_opt = get_attn_decoder(66, 'general')\n",
    "\n",
    "models = (encoder, decoder)\n",
    "opts = (encoder_opt, decoder_opt)\n",
    "\n",
    "fit(models, opts, epochs, dataloaders, criterion, use_attention=True)"
   ]
  },
  {
   "cell_type": "markdown",
   "metadata": {},
   "source": [
    "## Training the seq2seq model with bidirectional encoder and attention"
   ]
  },
  {
   "cell_type": "code",
   "execution_count": 79,
   "metadata": {},
   "outputs": [
    {
     "name": "stdout",
     "output_type": "stream",
     "text": [
      "Epoch 1/15\n",
      "6368/6368 [==============================] - Time: 14.14s - Loss: 0.27742211023966473\n",
      "Training Loss: 0.3394775181359781 - Val Loss: 0.25211158275604245 - Scaled Val Loss: 0.06133185112066971\n",
      "Epoch 2/15\n",
      "6368/6368 [==============================] - Time: 13.87s - Loss: 0.20340992609659832\n",
      "Training Loss: 0.22660876526505103 - Val Loss: 0.20745236206054693 - Scaled Val Loss: 0.04804651035332627\n",
      "Epoch 3/15\n",
      "6368/6368 [==============================] - Time: 13.92s - Loss: 0.17401712735493977\n",
      "Training Loss: 0.1974703688118326 - Val Loss: 0.18962123648325602 - Scaled Val Loss: 0.04358815335272571\n",
      "Epoch 4/15\n",
      "6368/6368 [==============================] - Time: 13.94s - Loss: 0.16357041994730637\n",
      "Training Loss: 0.18381139189753698 - Val Loss: 0.17921684424082435 - Scaled Val Loss: 0.04059808719323813\n",
      "Epoch 5/15\n",
      "6368/6368 [==============================] - Time: 13.90s - Loss: 0.17062155405680338\n",
      "Training Loss: 0.17437058864925775 - Val Loss: 0.17261907196044923 - Scaled Val Loss: 0.03904698292969754\n",
      "Epoch 6/15\n",
      "6368/6368 [==============================] - Time: 13.94s - Loss: 0.16087787946065266\n",
      "Training Loss: 0.1666714589999149 - Val Loss: 0.1670649900436401 - Scaled Val Loss: 0.037577705295010456\n",
      "Epoch 7/15\n",
      "6368/6368 [==============================] - Time: 13.88s - Loss: 0.15627600351969425\n",
      "Training Loss: 0.16044948536347303 - Val Loss: 0.16003167120615638 - Scaled Val Loss: 0.03592290852020607\n",
      "Epoch 8/15\n",
      "6368/6368 [==============================] - Time: 13.91s - Loss: 0.14769320487976073\n",
      "Training Loss: 0.15601049148457333 - Val Loss: 0.1581267312367757 - Scaled Val Loss: 0.0355549707235716\n",
      "Epoch 9/15\n",
      "6368/6368 [==============================] - Time: 13.88s - Loss: 0.15128038724263515\n",
      "Training Loss: 0.15249350945554188 - Val Loss: 0.15388137737909954 - Scaled Val Loss: 0.03467071134149552\n",
      "Epoch 10/15\n",
      "6368/6368 [==============================] - Time: 13.87s - Loss: 0.14288763999938964\n",
      "Training Loss: 0.14880866792733144 - Val Loss: 0.1533735858599345 - Scaled Val Loss: 0.03447959343695844\n",
      "Epoch 11/15\n",
      "6368/6368 [==============================] - Time: 13.87s - Loss: 0.17052721977233887\n",
      "Training Loss: 0.15490076505958136 - Val Loss: 0.15393098084131876 - Scaled Val Loss: 0.034678217050498776\n",
      "Epoch 12/15\n",
      "6368/6368 [==============================] - Time: 13.82s - Loss: 0.13064707120259603\n",
      "Training Loss: 0.14650062975571984 - Val Loss: 0.1483080898920695 - Scaled Val Loss: 0.0337008800687832\n",
      "Epoch 13/15\n",
      "6368/6368 [==============================] - Time: 13.90s - Loss: 0.15261322657267254\n",
      "Training Loss: 0.14239087388343746 - Val Loss: 0.14756115531921388 - Scaled Val Loss: 0.03336813024349809\n",
      "Epoch 14/15\n",
      "6368/6368 [==============================] - Time: 13.94s - Loss: 0.12945868968963622\n",
      "Training Loss: 0.13982253186467106 - Val Loss: 0.1433694610595703 - Scaled Val Loss: 0.032351916160899996\n",
      "Epoch 15/15\n",
      "6368/6368 [==============================] - Time: 13.92s - Loss: 0.14711009661356608\n",
      "Training Loss: 0.13883214575960806 - Val Loss: 0.14208820327123006 - Scaled Val Loss: 0.0323339033191164\n"
     ]
    },
    {
     "data": {
      "text/plain": [
       "<Figure size 432x288 with 0 Axes>"
      ]
     },
     "metadata": {},
     "output_type": "display_data"
    },
    {
     "data": {
      "image/png": "[encoded data removed]",
      "text/plain": [
       "<Figure size 432x288 with 1 Axes>"
      ]
     },
     "metadata": {
      "needs_background": "light"
     },
     "output_type": "display_data"
    }
   ],
   "source": [
    "encoder, encoder_opt = get_encoder(66, bidirectional=True)\n",
    "decoder, decoder_opt = get_attn_decoder(66, 'general', bidirectional_encoder=True)\n",
    "\n",
    "models = (encoder, decoder)\n",
    "opts = (encoder_opt, decoder_opt)\n",
    "\n",
    "fit(models, opts, epochs, dataloaders, criterion, use_attention=True)"
   ]
  },
  {
   "cell_type": "code",
   "execution_count": null,
   "metadata": {},
   "outputs": [],
   "source": []
  }
 ],
 "metadata": {
  "kernelspec": {
   "display_name": "Python 3",
   "language": "python",
   "name": "python3"
  },
  "language_info": {
   "codemirror_mode": {
    "name": "ipython",
    "version": 3
   },
   "file_extension": ".py",
   "mimetype": "text/x-python",
   "name": "python",
   "nbconvert_exporter": "python",
   "pygments_lexer": "ipython3",
   "version": "3.7.2"
  }
 },
 "nbformat": 4,
 "nbformat_minor": 2
}
