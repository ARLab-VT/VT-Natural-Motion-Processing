{
 "cells": [
  {
   "cell_type": "markdown",
   "metadata": {},
   "source": [
    "## Running Inference with our Seq2Seq model"
   ]
  },
  {
   "cell_type": "code",
   "execution_count": 1,
   "metadata": {},
   "outputs": [],
   "source": [
    "%load_ext autoreload\n",
    "%autoreload 2\n",
    "%matplotlib notebook\n",
    "\n",
    "import torch\n",
    "import torch.nn.functional as F\n",
    "import h5py\n",
    "import numpy as np\n",
    "import glob\n",
    "from common.quaternion import quat_mul\n",
    "from common.data_utils import read_h5\n",
    "from common.skeleton import Skeleton\n",
    "from seq2seq.training_utils import get_encoder, get_attn_decoder"
   ]
  },
  {
   "cell_type": "markdown",
   "metadata": {},
   "source": [
    "### Loading in some data to test with\n",
    "\n",
    "Let's start by loading in data.\n",
    "\n",
    "We trained our model using \"normOrientation\" and \"normAcceleration\" from the T8 (sternum), both forearms, and both lower legs as input, so we'll read in that data. We'll also read in some data for \"normOrientation\" on the entire body because this is the output of our model. Finally, we'll read in data for the orientation of the pelvis. This is important because we want to rotate the \"normOrientation\" data back into it's original reference frame."
   ]
  },
  {
   "cell_type": "code",
   "execution_count": 2,
   "metadata": {},
   "outputs": [],
   "source": [
    "group = [\"T8\", \"RightForeArm\", \"RightLowerLeg\", \"LeftForeArm\", \"LeftLowerLeg\"]\n",
    "\n",
    "filepaths = glob.glob(\"../data/*.h5\")\n",
    "requests = {\"normOrientation\" : [\"all\"], \"orientation\" : [\"Pelvis\"]}\n",
    "dataset = read_h5(filepaths, requests)\n",
    "\n",
    "filename = filepaths[0].split(\"/\")[-1]\n",
    "fullBodyOrientations = torch.Tensor(dataset[filename][\"normOrientation\"]).double()\n",
    "root = torch.Tensor(dataset[filename]['orientation']).double()\n",
    "\n",
    "requests = {\"normOrientation\" : group, \"normAcceleration\" : group}\n",
    "dataset = read_h5(filepaths, requests)\n",
    "orientationInputs = torch.Tensor(dataset[filename][\"normOrientation\"]).double()\n",
    "accelerationInputs = torch.Tensor(dataset[filename][\"normAcceleration\"]).double()\n",
    "\n",
    "with h5py.File(\"../data/set-2/normalization.h5\", \"r\") as f:\n",
    "    mean, std_dev = torch.Tensor(f[\"mean\"]), torch.Tensor(f[\"std_dev\"])"
   ]
  },
  {
   "cell_type": "markdown",
   "metadata": {},
   "source": [
    "### Loading in the Seq2Seq Model\n",
    "\n",
    "We can now load in our Seq2Seq models (encoder and decoder).\n",
    "\n",
    "The models must have the same arguments used during training so that errors don't pop up."
   ]
  },
  {
   "cell_type": "code",
   "execution_count": 3,
   "metadata": {},
   "outputs": [],
   "source": [
    "encoder_feature_size = len(group)*4 + len(group)*3\n",
    "decoder_feature_size = 92\n",
    "hidden_size = 512\n",
    "attention = \"dot\"\n",
    "bidirectional = True\n",
    "\n",
    "seq_length = 30\n",
    "downsample = 6\n",
    "in_out_ratio = 5\n",
    "\n",
    "\n",
    "device = torch.device(\"cuda\" if torch.cuda.is_available() else \"cpu\")\n",
    "\n",
    "encoder = get_encoder(encoder_feature_size,\n",
    "                      device,\n",
    "                      hidden_size=hidden_size,\n",
    "                      bidirectional=bidirectional)\n",
    "\n",
    "decoder = get_attn_decoder(decoder_feature_size,\n",
    "                           attention,\n",
    "                           device,\n",
    "                           hidden_size=hidden_size,\n",
    "                           bidirectional_encoder=bidirectional)\n",
    "\n",
    "    \n",
    "decoder.batch_size = 1\n",
    "decoder.attention.batch_size = 1\n",
    "\n",
    "PATH = \"/home/jackg7/VT-Natural-Motion-Processing/models/set-2/model.pt\"\n",
    "\n",
    "checkpoint = torch.load(PATH, map_location=device)\n",
    "\n",
    "encoder.load_state_dict(checkpoint['encoder_state_dict'])\n",
    "decoder.load_state_dict(checkpoint['decoder_state_dict'])\n",
    "\n",
    "encoder.eval()\n",
    "decoder.eval()\n",
    "models = (encoder, decoder)"
   ]
  },
  {
   "cell_type": "markdown",
   "metadata": {},
   "source": [
    "### Defining the inference function\n",
    "\n",
    "Our inference function needs to take in a batch of input data, pass it through both the encoder and decoder, and then return the output.\n",
    "\n",
    "Note that this function is very similar to the *loss_batch* function defined in *src/seq2seq/training_utils.py*. Here it returns the outputs instead of the loss for training/validation purposes."
   ]
  },
  {
   "cell_type": "code",
   "execution_count": 4,
   "metadata": {},
   "outputs": [],
   "source": [
    "def inference(data, models, device, use_attention=False, norm_quaternions=False):\n",
    "    encoder, decoder = models\n",
    "    input_batch, target_batch = data\n",
    "\n",
    "    input_batch = input_batch.to(device)\n",
    "    target_batch = target_batch.to(device)\n",
    "\n",
    "    seq_length = target_batch.shape[1]\n",
    "\n",
    "    input = input_batch.permute(1, 0, 2)\n",
    "    encoder_outputs, encoder_hidden = encoder(input)\n",
    "\n",
    "    decoder_hidden = encoder_hidden\n",
    "    decoder_input = torch.ones_like(target_batch[:, 0, :]).unsqueeze(0)\n",
    "    \n",
    "    outputs = torch.zeros_like(target_batch)\n",
    "\n",
    "    for t in range(seq_length):\n",
    "\n",
    "        if use_attention:\n",
    "            decoder_output, decoder_hidden = decoder(\n",
    "                decoder_input, decoder_hidden, encoder_outputs)\n",
    "        else:\n",
    "            decoder_output, decoder_hidden = decoder(\n",
    "                decoder_input, decoder_hidden)\n",
    "            \n",
    "        target = target_batch[:, t, :].unsqueeze(0).double()\n",
    "            \n",
    "        output = decoder_output\n",
    "\n",
    "        if norm_quaternions:\n",
    "            original_shape = output.shape\n",
    "\n",
    "            output = output.view(-1,4)\n",
    "            output = F.normalize(output, p=2, dim=1).view(original_shape)\n",
    "\n",
    "        outputs[:, t, :] = output\n",
    "        \n",
    "        decoder_input = output.detach()\n",
    "\n",
    "    return outputs"
   ]
  },
  {
   "cell_type": "markdown",
   "metadata": {},
   "source": [
    "### Sampling some data and running it through the inference function\n",
    "\n",
    "We can now sample some data and use our model to perform inference.\n",
    "\n",
    "We only trained the model to predict a single posture and did not use much training data as this is just a tutorial.\n",
    "\n",
    "Note we used normOrientations as output, so we have to put the orientation back into the original frame using the root's (pelvis) orientation."
   ]
  },
  {
   "cell_type": "code",
   "execution_count": 5,
   "metadata": {},
   "outputs": [],
   "source": [
    "i = 15330\n",
    "\n",
    "inp = torch.cat((orientationInputs[i:i+seq_length:downsample, :], accelerationInputs[i:i+seq_length:downsample, :]), dim=1)\n",
    "inp = inp.sub(mean).div(std_dev).double()\n",
    "\n",
    "out = fullBodyOrientations[i:i+seq_length:downsample, :].double()\n",
    "out = out[-1,:].unsqueeze(0) # trained our model to predict only a single pose\n",
    "\n",
    "data = (inp.unsqueeze(0), out.unsqueeze(0))\n",
    "      \n",
    "output = inference(data, models, device, use_attention=True, norm_quaternions=True)\n",
    "\n",
    "full_body = fullBodyOrientations[i:i+seq_length:downsample,:].clone()\n",
    "full_body = full_body[-1, :].unsqueeze(0)\n",
    "\n",
    "seq2seq_body = output.clone().squeeze(0)\n",
    "\n",
    "root_motion = root[i:i+seq_length:downsample, :].clone()\n",
    "root_motion = root_motion[-1, :].unsqueeze(0)\n",
    "\n",
    "root_motion = root_motion.unsqueeze(1).repeat(1, full_body.shape[1]//4, 1)\n",
    "\n",
    "full_body = quat_mul(root_motion, full_body.view(-1, full_body.shape[1]//4, 4)).view(full_body.shape)\n",
    "seq2seq_body = quat_mul(root_motion, seq2seq_body.view(-1, seq2seq_body.shape[1]//4, 4)).view(seq2seq_body.shape)"
   ]
  },
  {
   "cell_type": "markdown",
   "metadata": {},
   "source": [
    "Now that we have the ground truth posture and our seq2seq output, we can compare the motion using the Skeleton. \n",
    "\n",
    "The output won't look that great because we only used a single participant and a single epoch to train the model."
   ]
  },
  {
   "cell_type": "code",
   "execution_count": 6,
   "metadata": {},
   "outputs": [
    {
     "data": {
      "image/png": "[encoded data removed]",
      "text/plain": [
       "<Figure size 600x300 with 2 Axes>"
      ]
     },
     "execution_count": 6,
     "metadata": {},
     "output_type": "execute_result"
    }
   ],
   "source": [
    "skeleton = Skeleton()\n",
    "bodies = torch.cat((full_body, seq2seq_body), dim=0).float()\n",
    "skeleton.compare_motion(bodies, azim=0, elev=0)"
   ]
  }
 ],
 "metadata": {
  "kernelspec": {
   "display_name": "Python 3",
   "language": "python",
   "name": "python3"
  },
  "language_info": {
   "codemirror_mode": {
    "name": "ipython",
    "version": 3
   },
   "file_extension": ".py",
   "mimetype": "text/x-python",
   "name": "python",
   "nbconvert_exporter": "python",
   "pygments_lexer": "ipython3",
   "version": "3.7.4"
  }
 },
 "nbformat": 4,
 "nbformat_minor": 2
}
